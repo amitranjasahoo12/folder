{
 "cells": [
  {
   "cell_type": "code",
   "execution_count": 1,
   "id": "b0319c12",
   "metadata": {},
   "outputs": [],
   "source": [
    "import pandas as pd\n",
    "import numpy as np\n",
    "import matplotlib.pyplot as plt\n",
    "import seaborn as sns\n",
    "%matplotlib inline\n",
    "\n",
    "import warnings\n",
    "warnings.simplefilter(\"ignore\")"
   ]
  },
  {
   "cell_type": "code",
   "execution_count": 2,
   "id": "411154df",
   "metadata": {},
   "outputs": [],
   "source": [
    "df=pd.read_csv('airfoil_self_noise.dat',sep='\\t',header=None)"
   ]
  },
  {
   "cell_type": "code",
   "execution_count": 3,
   "id": "f24f7457",
   "metadata": {},
   "outputs": [
    {
     "data": {
      "text/html": [
       "<div>\n",
       "<style scoped>\n",
       "    .dataframe tbody tr th:only-of-type {\n",
       "        vertical-align: middle;\n",
       "    }\n",
       "\n",
       "    .dataframe tbody tr th {\n",
       "        vertical-align: top;\n",
       "    }\n",
       "\n",
       "    .dataframe thead th {\n",
       "        text-align: right;\n",
       "    }\n",
       "</style>\n",
       "<table border=\"1\" class=\"dataframe\">\n",
       "  <thead>\n",
       "    <tr style=\"text-align: right;\">\n",
       "      <th></th>\n",
       "      <th>0</th>\n",
       "      <th>1</th>\n",
       "      <th>2</th>\n",
       "      <th>3</th>\n",
       "      <th>4</th>\n",
       "      <th>5</th>\n",
       "    </tr>\n",
       "  </thead>\n",
       "  <tbody>\n",
       "    <tr>\n",
       "      <th>0</th>\n",
       "      <td>800</td>\n",
       "      <td>0.0</td>\n",
       "      <td>0.3048</td>\n",
       "      <td>71.3</td>\n",
       "      <td>0.002663</td>\n",
       "      <td>126.201</td>\n",
       "    </tr>\n",
       "    <tr>\n",
       "      <th>1</th>\n",
       "      <td>1000</td>\n",
       "      <td>0.0</td>\n",
       "      <td>0.3048</td>\n",
       "      <td>71.3</td>\n",
       "      <td>0.002663</td>\n",
       "      <td>125.201</td>\n",
       "    </tr>\n",
       "    <tr>\n",
       "      <th>2</th>\n",
       "      <td>1250</td>\n",
       "      <td>0.0</td>\n",
       "      <td>0.3048</td>\n",
       "      <td>71.3</td>\n",
       "      <td>0.002663</td>\n",
       "      <td>125.951</td>\n",
       "    </tr>\n",
       "    <tr>\n",
       "      <th>3</th>\n",
       "      <td>1600</td>\n",
       "      <td>0.0</td>\n",
       "      <td>0.3048</td>\n",
       "      <td>71.3</td>\n",
       "      <td>0.002663</td>\n",
       "      <td>127.591</td>\n",
       "    </tr>\n",
       "    <tr>\n",
       "      <th>4</th>\n",
       "      <td>2000</td>\n",
       "      <td>0.0</td>\n",
       "      <td>0.3048</td>\n",
       "      <td>71.3</td>\n",
       "      <td>0.002663</td>\n",
       "      <td>127.461</td>\n",
       "    </tr>\n",
       "    <tr>\n",
       "      <th>...</th>\n",
       "      <td>...</td>\n",
       "      <td>...</td>\n",
       "      <td>...</td>\n",
       "      <td>...</td>\n",
       "      <td>...</td>\n",
       "      <td>...</td>\n",
       "    </tr>\n",
       "    <tr>\n",
       "      <th>1498</th>\n",
       "      <td>2500</td>\n",
       "      <td>15.6</td>\n",
       "      <td>0.1016</td>\n",
       "      <td>39.6</td>\n",
       "      <td>0.052849</td>\n",
       "      <td>110.264</td>\n",
       "    </tr>\n",
       "    <tr>\n",
       "      <th>1499</th>\n",
       "      <td>3150</td>\n",
       "      <td>15.6</td>\n",
       "      <td>0.1016</td>\n",
       "      <td>39.6</td>\n",
       "      <td>0.052849</td>\n",
       "      <td>109.254</td>\n",
       "    </tr>\n",
       "    <tr>\n",
       "      <th>1500</th>\n",
       "      <td>4000</td>\n",
       "      <td>15.6</td>\n",
       "      <td>0.1016</td>\n",
       "      <td>39.6</td>\n",
       "      <td>0.052849</td>\n",
       "      <td>106.604</td>\n",
       "    </tr>\n",
       "    <tr>\n",
       "      <th>1501</th>\n",
       "      <td>5000</td>\n",
       "      <td>15.6</td>\n",
       "      <td>0.1016</td>\n",
       "      <td>39.6</td>\n",
       "      <td>0.052849</td>\n",
       "      <td>106.224</td>\n",
       "    </tr>\n",
       "    <tr>\n",
       "      <th>1502</th>\n",
       "      <td>6300</td>\n",
       "      <td>15.6</td>\n",
       "      <td>0.1016</td>\n",
       "      <td>39.6</td>\n",
       "      <td>0.052849</td>\n",
       "      <td>104.204</td>\n",
       "    </tr>\n",
       "  </tbody>\n",
       "</table>\n",
       "<p>1503 rows × 6 columns</p>\n",
       "</div>"
      ],
      "text/plain": [
       "         0     1       2     3         4        5\n",
       "0      800   0.0  0.3048  71.3  0.002663  126.201\n",
       "1     1000   0.0  0.3048  71.3  0.002663  125.201\n",
       "2     1250   0.0  0.3048  71.3  0.002663  125.951\n",
       "3     1600   0.0  0.3048  71.3  0.002663  127.591\n",
       "4     2000   0.0  0.3048  71.3  0.002663  127.461\n",
       "...    ...   ...     ...   ...       ...      ...\n",
       "1498  2500  15.6  0.1016  39.6  0.052849  110.264\n",
       "1499  3150  15.6  0.1016  39.6  0.052849  109.254\n",
       "1500  4000  15.6  0.1016  39.6  0.052849  106.604\n",
       "1501  5000  15.6  0.1016  39.6  0.052849  106.224\n",
       "1502  6300  15.6  0.1016  39.6  0.052849  104.204\n",
       "\n",
       "[1503 rows x 6 columns]"
      ]
     },
     "execution_count": 3,
     "metadata": {},
     "output_type": "execute_result"
    }
   ],
   "source": [
    "df"
   ]
  },
  {
   "cell_type": "markdown",
   "id": "2988ef36",
   "metadata": {},
   "source": [
    "## This problem has the following inputs:\n",
    "\n",
    "1. Frequency, in Hertzs.\n",
    "2. Angle of attack, in degrees.\n",
    "3. Chord length, in meters.\n",
    "4. Free-stream velocity, in meters per second.\n",
    "5. Suction side displacement thickness, in meters.\n",
    "\n",
    "The only output is:\n",
    "6. Scaled sound pressure level, in decibels."
   ]
  },
  {
   "cell_type": "code",
   "execution_count": 4,
   "id": "a7470347",
   "metadata": {},
   "outputs": [
    {
     "data": {
      "text/html": [
       "<div>\n",
       "<style scoped>\n",
       "    .dataframe tbody tr th:only-of-type {\n",
       "        vertical-align: middle;\n",
       "    }\n",
       "\n",
       "    .dataframe tbody tr th {\n",
       "        vertical-align: top;\n",
       "    }\n",
       "\n",
       "    .dataframe thead th {\n",
       "        text-align: right;\n",
       "    }\n",
       "</style>\n",
       "<table border=\"1\" class=\"dataframe\">\n",
       "  <thead>\n",
       "    <tr style=\"text-align: right;\">\n",
       "      <th></th>\n",
       "      <th>0</th>\n",
       "      <th>1</th>\n",
       "      <th>2</th>\n",
       "      <th>3</th>\n",
       "      <th>4</th>\n",
       "      <th>5</th>\n",
       "    </tr>\n",
       "  </thead>\n",
       "  <tbody>\n",
       "    <tr>\n",
       "      <th>0</th>\n",
       "      <td>800</td>\n",
       "      <td>0.0</td>\n",
       "      <td>0.3048</td>\n",
       "      <td>71.3</td>\n",
       "      <td>0.002663</td>\n",
       "      <td>126.201</td>\n",
       "    </tr>\n",
       "    <tr>\n",
       "      <th>1</th>\n",
       "      <td>1000</td>\n",
       "      <td>0.0</td>\n",
       "      <td>0.3048</td>\n",
       "      <td>71.3</td>\n",
       "      <td>0.002663</td>\n",
       "      <td>125.201</td>\n",
       "    </tr>\n",
       "    <tr>\n",
       "      <th>2</th>\n",
       "      <td>1250</td>\n",
       "      <td>0.0</td>\n",
       "      <td>0.3048</td>\n",
       "      <td>71.3</td>\n",
       "      <td>0.002663</td>\n",
       "      <td>125.951</td>\n",
       "    </tr>\n",
       "    <tr>\n",
       "      <th>3</th>\n",
       "      <td>1600</td>\n",
       "      <td>0.0</td>\n",
       "      <td>0.3048</td>\n",
       "      <td>71.3</td>\n",
       "      <td>0.002663</td>\n",
       "      <td>127.591</td>\n",
       "    </tr>\n",
       "    <tr>\n",
       "      <th>4</th>\n",
       "      <td>2000</td>\n",
       "      <td>0.0</td>\n",
       "      <td>0.3048</td>\n",
       "      <td>71.3</td>\n",
       "      <td>0.002663</td>\n",
       "      <td>127.461</td>\n",
       "    </tr>\n",
       "  </tbody>\n",
       "</table>\n",
       "</div>"
      ],
      "text/plain": [
       "      0    1       2     3         4        5\n",
       "0   800  0.0  0.3048  71.3  0.002663  126.201\n",
       "1  1000  0.0  0.3048  71.3  0.002663  125.201\n",
       "2  1250  0.0  0.3048  71.3  0.002663  125.951\n",
       "3  1600  0.0  0.3048  71.3  0.002663  127.591\n",
       "4  2000  0.0  0.3048  71.3  0.002663  127.461"
      ]
     },
     "execution_count": 4,
     "metadata": {},
     "output_type": "execute_result"
    }
   ],
   "source": [
    "df.head()"
   ]
  },
  {
   "cell_type": "code",
   "execution_count": 5,
   "id": "bd1d0c55",
   "metadata": {},
   "outputs": [],
   "source": [
    "df.columns=[\"Frequency\",\"Angle of attack\",\"Chord length(m)\",\"Free-stream velocity\",\"Suction side\",\"pressure level\"]"
   ]
  },
  {
   "cell_type": "code",
   "execution_count": 6,
   "id": "0c0e5b7d",
   "metadata": {},
   "outputs": [
    {
     "data": {
      "text/html": [
       "<div>\n",
       "<style scoped>\n",
       "    .dataframe tbody tr th:only-of-type {\n",
       "        vertical-align: middle;\n",
       "    }\n",
       "\n",
       "    .dataframe tbody tr th {\n",
       "        vertical-align: top;\n",
       "    }\n",
       "\n",
       "    .dataframe thead th {\n",
       "        text-align: right;\n",
       "    }\n",
       "</style>\n",
       "<table border=\"1\" class=\"dataframe\">\n",
       "  <thead>\n",
       "    <tr style=\"text-align: right;\">\n",
       "      <th></th>\n",
       "      <th>Frequency</th>\n",
       "      <th>Angle of attack</th>\n",
       "      <th>Chord length(m)</th>\n",
       "      <th>Free-stream velocity</th>\n",
       "      <th>Suction side</th>\n",
       "      <th>pressure level</th>\n",
       "    </tr>\n",
       "  </thead>\n",
       "  <tbody>\n",
       "    <tr>\n",
       "      <th>0</th>\n",
       "      <td>800</td>\n",
       "      <td>0.0</td>\n",
       "      <td>0.3048</td>\n",
       "      <td>71.3</td>\n",
       "      <td>0.002663</td>\n",
       "      <td>126.201</td>\n",
       "    </tr>\n",
       "    <tr>\n",
       "      <th>1</th>\n",
       "      <td>1000</td>\n",
       "      <td>0.0</td>\n",
       "      <td>0.3048</td>\n",
       "      <td>71.3</td>\n",
       "      <td>0.002663</td>\n",
       "      <td>125.201</td>\n",
       "    </tr>\n",
       "    <tr>\n",
       "      <th>2</th>\n",
       "      <td>1250</td>\n",
       "      <td>0.0</td>\n",
       "      <td>0.3048</td>\n",
       "      <td>71.3</td>\n",
       "      <td>0.002663</td>\n",
       "      <td>125.951</td>\n",
       "    </tr>\n",
       "    <tr>\n",
       "      <th>3</th>\n",
       "      <td>1600</td>\n",
       "      <td>0.0</td>\n",
       "      <td>0.3048</td>\n",
       "      <td>71.3</td>\n",
       "      <td>0.002663</td>\n",
       "      <td>127.591</td>\n",
       "    </tr>\n",
       "    <tr>\n",
       "      <th>4</th>\n",
       "      <td>2000</td>\n",
       "      <td>0.0</td>\n",
       "      <td>0.3048</td>\n",
       "      <td>71.3</td>\n",
       "      <td>0.002663</td>\n",
       "      <td>127.461</td>\n",
       "    </tr>\n",
       "  </tbody>\n",
       "</table>\n",
       "</div>"
      ],
      "text/plain": [
       "   Frequency  Angle of attack  Chord length(m)  Free-stream velocity  \\\n",
       "0        800              0.0           0.3048                  71.3   \n",
       "1       1000              0.0           0.3048                  71.3   \n",
       "2       1250              0.0           0.3048                  71.3   \n",
       "3       1600              0.0           0.3048                  71.3   \n",
       "4       2000              0.0           0.3048                  71.3   \n",
       "\n",
       "   Suction side  pressure level  \n",
       "0      0.002663         126.201  \n",
       "1      0.002663         125.201  \n",
       "2      0.002663         125.951  \n",
       "3      0.002663         127.591  \n",
       "4      0.002663         127.461  "
      ]
     },
     "execution_count": 6,
     "metadata": {},
     "output_type": "execute_result"
    }
   ],
   "source": [
    "df.head()"
   ]
  },
  {
   "cell_type": "code",
   "execution_count": 7,
   "id": "e0dbb803",
   "metadata": {},
   "outputs": [
    {
     "name": "stdout",
     "output_type": "stream",
     "text": [
      "Variable present in the DataFrame Index(['Frequency', 'Angle of attack', 'Chord length(m)',\n",
      "       'Free-stream velocity', 'Suction side', 'pressure level'],\n",
      "      dtype='object')\n",
      "\n",
      " ======================================================================\n",
      "<class 'pandas.core.frame.DataFrame'>\n",
      "RangeIndex: 1503 entries, 0 to 1502\n",
      "Data columns (total 6 columns):\n",
      " #   Column                Non-Null Count  Dtype  \n",
      "---  ------                --------------  -----  \n",
      " 0   Frequency             1503 non-null   int64  \n",
      " 1   Angle of attack       1503 non-null   float64\n",
      " 2   Chord length(m)       1503 non-null   float64\n",
      " 3   Free-stream velocity  1503 non-null   float64\n",
      " 4   Suction side          1503 non-null   float64\n",
      " 5   pressure level        1503 non-null   float64\n",
      "dtypes: float64(5), int64(1)\n",
      "memory usage: 70.6 KB\n",
      "Information about DataFrame:  None\n",
      "\n",
      " ======================================================================\n",
      "Shape of the DataFrame:  (1503, 6)\n",
      "\n",
      " ======================================================================\n"
     ]
    }
   ],
   "source": [
    "print(\"Variable present in the DataFrame\",df.columns)\n",
    "print(\"\\n\",70*\"=\")\n",
    "print(\"Information about DataFrame: \",df.info())\n",
    "print(\"\\n\",70*\"=\")\n",
    "print(\"Shape of the DataFrame: \",df.shape)\n",
    "print(\"\\n\",70*\"=\")"
   ]
  },
  {
   "cell_type": "code",
   "execution_count": 8,
   "id": "31445ccc",
   "metadata": {},
   "outputs": [
    {
     "name": "stdout",
     "output_type": "stream",
     "text": [
      "Number of missing values each columns:  \n",
      " Frequency               0\n",
      "Angle of attack         0\n",
      "Chord length(m)         0\n",
      "Free-stream velocity    0\n",
      "Suction side            0\n",
      "pressure level          0\n",
      "dtype: int64\n",
      "\n",
      "\n",
      "Percentage of missing value in Frequency               0.0\n",
      "Angle of attack         0.0\n",
      "Chord length(m)         0.0\n",
      "Free-stream velocity    0.0\n",
      "Suction side            0.0\n",
      "pressure level          0.0\n",
      "dtype: float64 %\n"
     ]
    },
    {
     "data": {
      "image/png": "[encoded data removed]",
      "text/plain": [
       "<Figure size 432x288 with 2 Axes>"
      ]
     },
     "metadata": {
      "needs_background": "light"
     },
     "output_type": "display_data"
    }
   ],
   "source": [
    "print(\"Number of missing values each columns: \",\"\\n\",df.isnull().sum())\n",
    "\n",
    "sns.heatmap(df.isnull(), yticklabels=False)\n",
    "\n",
    "# shows that those column missing values\n",
    "\n",
    "print(\"\\n\")\n",
    "\n",
    "print(\"Percentage of missing value in {a} %\".format(a=df.isnull().sum()/len(df)))"
   ]
  },
  {
   "cell_type": "code",
   "execution_count": 9,
   "id": "053e90c9",
   "metadata": {},
   "outputs": [
    {
     "data": {
      "text/plain": [
       "6"
      ]
     },
     "execution_count": 9,
     "metadata": {},
     "output_type": "execute_result"
    }
   ],
   "source": [
    "len(df.columns)"
   ]
  },
  {
   "cell_type": "code",
   "execution_count": 10,
   "id": "7f8e4d6b",
   "metadata": {},
   "outputs": [
    {
     "data": {
      "text/plain": [
       "Index(['Frequency', 'Angle of attack', 'Chord length(m)',\n",
       "       'Free-stream velocity', 'Suction side', 'pressure level'],\n",
       "      dtype='object')"
      ]
     },
     "execution_count": 10,
     "metadata": {},
     "output_type": "execute_result"
    }
   ],
   "source": [
    "df.columns"
   ]
  },
  {
   "cell_type": "code",
   "execution_count": 11,
   "id": "5f2d4a5a",
   "metadata": {},
   "outputs": [
    {
     "data": {
      "text/plain": [
       "'Distribution of the dataset'"
      ]
     },
     "execution_count": 11,
     "metadata": {},
     "output_type": "execute_result"
    },
    {
     "data": {
      "image/png": "[encoded data removed]",
      "text/plain": [
       "<Figure size 1440x1800 with 6 Axes>"
      ]
     },
     "metadata": {},
     "output_type": "display_data"
    }
   ],
   "source": [
    "# let's see how data is distributed for every column\n",
    "plt.figure(figsize=(20,25), facecolor='white')\n",
    "plotnumber = 1\n",
    "\n",
    "for column in df:\n",
    "    if plotnumber<=6 :\n",
    "        ax = plt.subplot(4,4,plotnumber)\n",
    "        sns.distplot(df[column])\n",
    "        plt.xlabel(column,fontsize=20)\n",
    "        \n",
    "    plotnumber+=1\n",
    "plt.tight_layout()\n",
    "\n",
    "'''Distribution of the dataset'''"
   ]
  },
  {
   "cell_type": "code",
   "execution_count": 12,
   "id": "55bbe714",
   "metadata": {
    "scrolled": false
   },
   "outputs": [
    {
     "data": {
      "image/png": "[encoded data removed]",
      "text/plain": [
       "<Figure size 720x720 with 7 Axes>"
      ]
     },
     "metadata": {
      "needs_background": "light"
     },
     "output_type": "display_data"
    }
   ],
   "source": [
    "# create a box plot\n",
    "fig , ax = plt.subplots(ncols=7,figsize=(10,10))\n",
    "index=0\n",
    "ax = ax.flatten()\n",
    "\n",
    "for col, value in df.items():\n",
    "    sns.boxplot(y=col,data= df, ax = ax[index])\n",
    "    index += 1\n",
    "    \n",
    "plt.tight_layout(pad=0.5, w_pad=0.7, h_pad=5.0) "
   ]
  },
  {
   "cell_type": "code",
   "execution_count": 13,
   "id": "941adfae",
   "metadata": {},
   "outputs": [
    {
     "data": {
      "text/plain": [
       "<AxesSubplot:xlabel='Frequency', ylabel='Frequency'>"
      ]
     },
     "execution_count": 13,
     "metadata": {},
     "output_type": "execute_result"
    },
    {
     "data": {
      "image/png": "[encoded data removed]",
      "text/plain": [
       "<Figure size 432x288 with 1 Axes>"
      ]
     },
     "metadata": {
      "needs_background": "light"
     },
     "output_type": "display_data"
    }
   ],
   "source": [
    "sns.histplot(data=df, x=\"Frequency\",kde=True,stat=\"frequency\")"
   ]
  },
  {
   "cell_type": "code",
   "execution_count": 14,
   "id": "d04a8336",
   "metadata": {},
   "outputs": [],
   "source": [
    "def detectoutliers(column):\n",
    "    \n",
    "    numbers = sorted(column)\n",
    "    \n",
    "    #outliers=[]\n",
    "    \n",
    "    Q1 = np.quantile(column, .25) #quantile() method calculates the quantile of the values in a given axis\n",
    "    Q3 = np.quantile(column, .75) #Compute the q-th percentile of the data along the specified axis.\n",
    "    Q2 = np.quantile(column, .50) \n",
    "    \n",
    "    \n",
    "    #print('Q1,Q3 : ',Q1,Q3)\n",
    "    \n",
    "    \n",
    "    IQR = Q3-Q1\n",
    "    lower_bound_val = Q1 -(1.5 * IQR) \n",
    "    upper_bound_val = Q3 +(1.5 * IQR) \n",
    "    \n",
    "    no_outliers = column[(column > Q1 - 1.5*IQR) &  (column < Q3 + 1.5*IQR)]\n",
    "\n",
    "    outliers = column [(column < 1 - 1.5*IQR) |  (column > Q3 + 1.5*IQR)]\n",
    "    \n",
    "    lower_fence_otlier=column [(Q1 - 1.5*IQR >= column)]\n",
    "    \n",
    "    upper_fence_otlier=column [(column >= Q3 + 1.5*IQR)]\n",
    "\n",
    "    print(\"Quantile-1 (Q1): \",Q1, \"\\n\")\n",
    "    print(\"Quantile-2-median (Q2): \",Q2, \"\\n\")\n",
    "    print(\"Quantile-3 (Q3): \",Q3, \"\\n\")\n",
    "    print(\"Inter Quantile Range (IQR): \",IQR, \"\\n\")\n",
    "    \n",
    "    print('lowerBound : ',lower_bound_val,\"\\n\")\n",
    "    print('upperBound : ',upper_bound_val,\"\\n\")\n",
    "    \n",
    "    print(\"Maximum value\",column.max())\n",
    "    print(\"Minimum value\",column.min())\n",
    "    \n",
    "\n",
    "    \n",
    "    return lower_bound_val,upper_bound_val #,outliers"
   ]
  },
  {
   "cell_type": "code",
   "execution_count": 15,
   "id": "bad7096f",
   "metadata": {},
   "outputs": [
    {
     "name": "stdout",
     "output_type": "stream",
     "text": [
      "Quantile-1 (Q1):  800.0 \n",
      "\n",
      "Quantile-2-median (Q2):  1600.0 \n",
      "\n",
      "Quantile-3 (Q3):  4000.0 \n",
      "\n",
      "Inter Quantile Range (IQR):  3200.0 \n",
      "\n",
      "lowerBound :  -4000.0 \n",
      "\n",
      "upperBound :  8800.0 \n",
      "\n",
      "Maximum value 20000\n",
      "Minimum value 200\n"
     ]
    },
    {
     "data": {
      "text/plain": [
       "(-4000.0, 8800.0)"
      ]
     },
     "execution_count": 15,
     "metadata": {},
     "output_type": "execute_result"
    }
   ],
   "source": [
    "detectoutliers(df[\"Frequency\"])"
   ]
  },
  {
   "cell_type": "code",
   "execution_count": 16,
   "id": "d7aefb95",
   "metadata": {},
   "outputs": [
    {
     "name": "stdout",
     "output_type": "stream",
     "text": [
      "Quantile-1 (Q1):  2.0 \n",
      "\n",
      "Quantile-2-median (Q2):  5.4 \n",
      "\n",
      "Quantile-3 (Q3):  9.9 \n",
      "\n",
      "Inter Quantile Range (IQR):  7.9 \n",
      "\n",
      "lowerBound :  -9.850000000000001 \n",
      "\n",
      "upperBound :  21.75 \n",
      "\n",
      "Maximum value 22.2\n",
      "Minimum value 0.0\n"
     ]
    },
    {
     "data": {
      "text/plain": [
       "(-9.850000000000001, 21.75)"
      ]
     },
     "execution_count": 16,
     "metadata": {},
     "output_type": "execute_result"
    }
   ],
   "source": [
    "detectoutliers(df[\"Angle of attack\"])"
   ]
  },
  {
   "cell_type": "code",
   "execution_count": 17,
   "id": "cffbfdaf",
   "metadata": {},
   "outputs": [
    {
     "name": "stdout",
     "output_type": "stream",
     "text": [
      "Quantile-1 (Q1):  0.0508 \n",
      "\n",
      "Quantile-2-median (Q2):  0.1016 \n",
      "\n",
      "Quantile-3 (Q3):  0.2286 \n",
      "\n",
      "Inter Quantile Range (IQR):  0.1778 \n",
      "\n",
      "lowerBound :  -0.21590000000000004 \n",
      "\n",
      "upperBound :  0.4953000000000001 \n",
      "\n",
      "Maximum value 0.3048\n",
      "Minimum value 0.0254\n"
     ]
    },
    {
     "data": {
      "text/plain": [
       "(-0.21590000000000004, 0.4953000000000001)"
      ]
     },
     "execution_count": 17,
     "metadata": {},
     "output_type": "execute_result"
    }
   ],
   "source": [
    "detectoutliers(df[\"Chord length(m)\"])"
   ]
  },
  {
   "cell_type": "code",
   "execution_count": 18,
   "id": "98f4264e",
   "metadata": {},
   "outputs": [
    {
     "name": "stdout",
     "output_type": "stream",
     "text": [
      "Quantile-1 (Q1):  39.6 \n",
      "\n",
      "Quantile-2-median (Q2):  39.6 \n",
      "\n",
      "Quantile-3 (Q3):  71.3 \n",
      "\n",
      "Inter Quantile Range (IQR):  31.699999999999996 \n",
      "\n",
      "lowerBound :  -7.949999999999996 \n",
      "\n",
      "upperBound :  118.85 \n",
      "\n",
      "Maximum value 71.3\n",
      "Minimum value 31.7\n"
     ]
    },
    {
     "data": {
      "text/plain": [
       "(-7.949999999999996, 118.85)"
      ]
     },
     "execution_count": 18,
     "metadata": {},
     "output_type": "execute_result"
    }
   ],
   "source": [
    "detectoutliers(df[\"Free-stream velocity\"])"
   ]
  },
  {
   "cell_type": "code",
   "execution_count": 19,
   "id": "923646d1",
   "metadata": {},
   "outputs": [
    {
     "name": "stdout",
     "output_type": "stream",
     "text": [
      "Quantile-1 (Q1):  0.00253511 \n",
      "\n",
      "Quantile-2-median (Q2):  0.00495741 \n",
      "\n",
      "Quantile-3 (Q3):  0.0155759 \n",
      "\n",
      "Inter Quantile Range (IQR):  0.01304079 \n",
      "\n",
      "lowerBound :  -0.017026075 \n",
      "\n",
      "upperBound :  0.035137085 \n",
      "\n",
      "Maximum value 0.0584113\n",
      "Minimum value 0.000400682\n"
     ]
    },
    {
     "data": {
      "text/plain": [
       "(-0.017026075, 0.035137085)"
      ]
     },
     "execution_count": 19,
     "metadata": {},
     "output_type": "execute_result"
    }
   ],
   "source": [
    "detectoutliers(df[\"Suction side\"])"
   ]
  },
  {
   "cell_type": "code",
   "execution_count": 20,
   "id": "07914761",
   "metadata": {},
   "outputs": [
    {
     "name": "stdout",
     "output_type": "stream",
     "text": [
      "Quantile-1 (Q1):  120.191 \n",
      "\n",
      "Quantile-2-median (Q2):  125.721 \n",
      "\n",
      "Quantile-3 (Q3):  129.9955 \n",
      "\n",
      "Inter Quantile Range (IQR):  9.80449999999999 \n",
      "\n",
      "lowerBound :  105.48425000000002 \n",
      "\n",
      "upperBound :  144.70225 \n",
      "\n",
      "Maximum value 140.987\n",
      "Minimum value 103.38\n"
     ]
    },
    {
     "data": {
      "text/plain": [
       "(105.48425000000002, 144.70225)"
      ]
     },
     "execution_count": 20,
     "metadata": {},
     "output_type": "execute_result"
    }
   ],
   "source": [
    "detectoutliers(df[\"pressure level\"])"
   ]
  },
  {
   "cell_type": "code",
   "execution_count": 21,
   "id": "840af34c",
   "metadata": {},
   "outputs": [
    {
     "data": {
      "image/png": "[encoded data removed]",
      "text/plain": [
       "<Figure size 432x288 with 1 Axes>"
      ]
     },
     "metadata": {
      "needs_background": "light"
     },
     "output_type": "display_data"
    },
    {
     "data": {
      "image/png": "[encoded data removed]",
      "text/plain": [
       "<Figure size 432x288 with 1 Axes>"
      ]
     },
     "metadata": {
      "needs_background": "light"
     },
     "output_type": "display_data"
    }
   ],
   "source": [
    "#Outlier Treatment:\n",
    "\n",
    "\n",
    "sns.boxplot(df[\"Frequency\"])\n",
    "plt.title(\"before\")\n",
    "plt.show()\n",
    "\n",
    "def otlier_treat(df,column):\n",
    "    \n",
    "    for i in df[column]:\n",
    "        Q1 = np.quantile(df[column], .25) \n",
    "        Q3 = np.quantile(df[column], .75) \n",
    "        Q2 = np.quantile(df[column], .50)\n",
    "        \n",
    "        IQR = Q3-Q1\n",
    "        lower = Q1 -(1.5 * IQR) \n",
    "        upper = Q3 +(1.5 * IQR)\n",
    "        \n",
    "        if i > upper :\n",
    "            df[column]=df[column].replace(i,upper)\n",
    "            if i < lower:\n",
    "                df[column]=df[column].replace(i,lower)\n",
    "                \n",
    "            \n",
    "            \n",
    "otlier_treat(df,\"Frequency\")  \n",
    "\n",
    "sns.boxplot(df[\"Frequency\"])\n",
    "plt.title(\"after\")\n",
    "plt.show()"
   ]
  },
  {
   "cell_type": "code",
   "execution_count": 22,
   "id": "95cd8c53",
   "metadata": {},
   "outputs": [
    {
     "data": {
      "image/png": "[encoded data removed]",
      "text/plain": [
       "<Figure size 432x288 with 1 Axes>"
      ]
     },
     "metadata": {
      "needs_background": "light"
     },
     "output_type": "display_data"
    },
    {
     "data": {
      "image/png": "[encoded data removed]",
      "text/plain": [
       "<Figure size 432x288 with 1 Axes>"
      ]
     },
     "metadata": {
      "needs_background": "light"
     },
     "output_type": "display_data"
    }
   ],
   "source": [
    "sns.boxplot(df[\"Angle of attack\"])\n",
    "plt.title(\"before\")\n",
    "plt.show()\n",
    "\n",
    "       \n",
    "# Call the function            \n",
    "otlier_treat(df,\"Angle of attack\")  \n",
    "\n",
    "sns.boxplot(df[\"Angle of attack\"])\n",
    "plt.title(\"after\")\n",
    "plt.show()"
   ]
  },
  {
   "cell_type": "code",
   "execution_count": 23,
   "id": "0c77e775",
   "metadata": {},
   "outputs": [
    {
     "data": {
      "image/png": "[encoded data removed]",
      "text/plain": [
       "<Figure size 432x288 with 1 Axes>"
      ]
     },
     "metadata": {
      "needs_background": "light"
     },
     "output_type": "display_data"
    },
    {
     "data": {
      "image/png": "[encoded data removed]",
      "text/plain": [
       "<Figure size 432x288 with 1 Axes>"
      ]
     },
     "metadata": {
      "needs_background": "light"
     },
     "output_type": "display_data"
    }
   ],
   "source": [
    "sns.boxplot(df[\"Chord length(m)\"])\n",
    "plt.title(\"before\")\n",
    "plt.show()\n",
    "\n",
    "       \n",
    "# Call the function            \n",
    "otlier_treat(df,\"Chord length(m)\")  \n",
    "\n",
    "sns.boxplot(df[\"Chord length(m)\"])\n",
    "plt.title(\"after\")\n",
    "plt.show()"
   ]
  },
  {
   "cell_type": "code",
   "execution_count": 24,
   "id": "92fc7f74",
   "metadata": {},
   "outputs": [
    {
     "data": {
      "image/png": "[encoded data removed]",
      "text/plain": [
       "<Figure size 432x288 with 1 Axes>"
      ]
     },
     "metadata": {
      "needs_background": "light"
     },
     "output_type": "display_data"
    },
    {
     "data": {
      "image/png": "[encoded data removed]",
      "text/plain": [
       "<Figure size 432x288 with 1 Axes>"
      ]
     },
     "metadata": {
      "needs_background": "light"
     },
     "output_type": "display_data"
    }
   ],
   "source": [
    "sns.boxplot(df[\"Free-stream velocity\"])\n",
    "plt.title(\"before\")\n",
    "plt.show()\n",
    "\n",
    "       \n",
    "# Call the function            \n",
    "otlier_treat(df,\"Free-stream velocity\")  \n",
    "\n",
    "sns.boxplot(df[\"Free-stream velocity\"])\n",
    "plt.title(\"after\")\n",
    "plt.show()"
   ]
  },
  {
   "cell_type": "code",
   "execution_count": 25,
   "id": "ae8a00d3",
   "metadata": {},
   "outputs": [
    {
     "data": {
      "image/png": "[encoded data removed]",
      "text/plain": [
       "<Figure size 432x288 with 1 Axes>"
      ]
     },
     "metadata": {
      "needs_background": "light"
     },
     "output_type": "display_data"
    },
    {
     "data": {
      "image/png": "[encoded data removed]",
      "text/plain": [
       "<Figure size 432x288 with 1 Axes>"
      ]
     },
     "metadata": {
      "needs_background": "light"
     },
     "output_type": "display_data"
    }
   ],
   "source": [
    "sns.boxplot(df[\"Suction side\"])\n",
    "plt.title(\"before\")\n",
    "plt.show()\n",
    "\n",
    "       \n",
    "# Call the function            \n",
    "otlier_treat(df,\"Suction side\")  \n",
    "\n",
    "sns.boxplot(df[\"Suction side\"])\n",
    "plt.title(\"after\")\n",
    "plt.show()"
   ]
  },
  {
   "cell_type": "code",
   "execution_count": 26,
   "id": "1c87da2f",
   "metadata": {},
   "outputs": [
    {
     "data": {
      "text/plain": [
       "'Distribution of the dataset'"
      ]
     },
     "execution_count": 26,
     "metadata": {},
     "output_type": "execute_result"
    },
    {
     "data": {
      "image/png": "[encoded data removed]",
      "text/plain": [
       "<Figure size 1440x1800 with 6 Axes>"
      ]
     },
     "metadata": {},
     "output_type": "display_data"
    }
   ],
   "source": [
    "# let's see how data is distributed for every column\n",
    "plt.figure(figsize=(20,25), facecolor='white')\n",
    "plotnumber = 1\n",
    "\n",
    "for column in df:\n",
    "    if plotnumber<=6 :\n",
    "        ax = plt.subplot(4,4,plotnumber)\n",
    "        sns.distplot(df[column])\n",
    "        plt.xlabel(column,fontsize=20)\n",
    "        \n",
    "    plotnumber+=1\n",
    "plt.tight_layout()\n",
    "\n",
    "'''Distribution of the dataset'''\n",
    "# after outlier tratment"
   ]
  },
  {
   "cell_type": "code",
   "execution_count": 27,
   "id": "61aa9508",
   "metadata": {},
   "outputs": [
    {
     "data": {
      "image/png": "[encoded data removed]",
      "text/plain": [
       "<Figure size 720x720 with 7 Axes>"
      ]
     },
     "metadata": {
      "needs_background": "light"
     },
     "output_type": "display_data"
    }
   ],
   "source": [
    "# create a box plot\n",
    "fig , ax = plt.subplots(ncols=7,figsize=(10,10))\n",
    "index=0\n",
    "ax = ax.flatten()\n",
    "\n",
    "for col, value in df.items():\n",
    "    sns.boxplot(y=col,data= df, ax = ax[index])\n",
    "    index += 1\n",
    "    \n",
    "plt.tight_layout(pad=0.5, w_pad=0.7, h_pad=5.0) "
   ]
  },
  {
   "cell_type": "markdown",
   "id": "303c42e2",
   "metadata": {},
   "source": [
    "## **@**Feature Selection"
   ]
  },
  {
   "cell_type": "code",
   "execution_count": 28,
   "id": "d8830e3a",
   "metadata": {},
   "outputs": [
    {
     "data": {
      "text/html": [
       "<div>\n",
       "<style scoped>\n",
       "    .dataframe tbody tr th:only-of-type {\n",
       "        vertical-align: middle;\n",
       "    }\n",
       "\n",
       "    .dataframe tbody tr th {\n",
       "        vertical-align: top;\n",
       "    }\n",
       "\n",
       "    .dataframe thead th {\n",
       "        text-align: right;\n",
       "    }\n",
       "</style>\n",
       "<table border=\"1\" class=\"dataframe\">\n",
       "  <thead>\n",
       "    <tr style=\"text-align: right;\">\n",
       "      <th></th>\n",
       "      <th>Frequency</th>\n",
       "      <th>Angle of attack</th>\n",
       "      <th>Chord length(m)</th>\n",
       "      <th>Free-stream velocity</th>\n",
       "      <th>Suction side</th>\n",
       "      <th>pressure level</th>\n",
       "    </tr>\n",
       "  </thead>\n",
       "  <tbody>\n",
       "    <tr>\n",
       "      <th>Frequency</th>\n",
       "      <td>1.000000</td>\n",
       "      <td>-0.274280</td>\n",
       "      <td>0.003938</td>\n",
       "      <td>0.117396</td>\n",
       "      <td>-0.252480</td>\n",
       "      <td>-0.416397</td>\n",
       "    </tr>\n",
       "    <tr>\n",
       "      <th>Angle of attack</th>\n",
       "      <td>-0.274280</td>\n",
       "      <td>1.000000</td>\n",
       "      <td>-0.505037</td>\n",
       "      <td>0.058541</td>\n",
       "      <td>0.817985</td>\n",
       "      <td>-0.156645</td>\n",
       "    </tr>\n",
       "    <tr>\n",
       "      <th>Chord length(m)</th>\n",
       "      <td>0.003938</td>\n",
       "      <td>-0.505037</td>\n",
       "      <td>1.000000</td>\n",
       "      <td>0.003787</td>\n",
       "      <td>-0.255371</td>\n",
       "      <td>-0.236162</td>\n",
       "    </tr>\n",
       "    <tr>\n",
       "      <th>Free-stream velocity</th>\n",
       "      <td>0.117396</td>\n",
       "      <td>0.058541</td>\n",
       "      <td>0.003787</td>\n",
       "      <td>1.000000</td>\n",
       "      <td>0.010025</td>\n",
       "      <td>0.125103</td>\n",
       "    </tr>\n",
       "    <tr>\n",
       "      <th>Suction side</th>\n",
       "      <td>-0.252480</td>\n",
       "      <td>0.817985</td>\n",
       "      <td>-0.255371</td>\n",
       "      <td>0.010025</td>\n",
       "      <td>1.000000</td>\n",
       "      <td>-0.283860</td>\n",
       "    </tr>\n",
       "    <tr>\n",
       "      <th>pressure level</th>\n",
       "      <td>-0.416397</td>\n",
       "      <td>-0.156645</td>\n",
       "      <td>-0.236162</td>\n",
       "      <td>0.125103</td>\n",
       "      <td>-0.283860</td>\n",
       "      <td>1.000000</td>\n",
       "    </tr>\n",
       "  </tbody>\n",
       "</table>\n",
       "</div>"
      ],
      "text/plain": [
       "                      Frequency  Angle of attack  Chord length(m)  \\\n",
       "Frequency              1.000000        -0.274280         0.003938   \n",
       "Angle of attack       -0.274280         1.000000        -0.505037   \n",
       "Chord length(m)        0.003938        -0.505037         1.000000   \n",
       "Free-stream velocity   0.117396         0.058541         0.003787   \n",
       "Suction side          -0.252480         0.817985        -0.255371   \n",
       "pressure level        -0.416397        -0.156645        -0.236162   \n",
       "\n",
       "                      Free-stream velocity  Suction side  pressure level  \n",
       "Frequency                         0.117396     -0.252480       -0.416397  \n",
       "Angle of attack                   0.058541      0.817985       -0.156645  \n",
       "Chord length(m)                   0.003787     -0.255371       -0.236162  \n",
       "Free-stream velocity              1.000000      0.010025        0.125103  \n",
       "Suction side                      0.010025      1.000000       -0.283860  \n",
       "pressure level                    0.125103     -0.283860        1.000000  "
      ]
     },
     "execution_count": 28,
     "metadata": {},
     "output_type": "execute_result"
    }
   ],
   "source": [
    "corr=df.corr()\n",
    "corr"
   ]
  },
  {
   "cell_type": "code",
   "execution_count": 29,
   "id": "66b526c5",
   "metadata": {},
   "outputs": [
    {
     "data": {
      "text/plain": [
       "'Here, I am checking each and every feature correlation by using Heatmap'"
      ]
     },
     "execution_count": 29,
     "metadata": {},
     "output_type": "execute_result"
    },
    {
     "data": {
      "image/png": "[encoded data removed]",
      "text/plain": [
       "<Figure size 1440x1440 with 2 Axes>"
      ]
     },
     "metadata": {
      "needs_background": "light"
     },
     "output_type": "display_data"
    }
   ],
   "source": [
    "# Plotting the heatmap of correlation between features\n",
    "plt.figure(figsize=(20,20))\n",
    "sns.heatmap(corr, cbar=True, square= True, fmt='.1f', annot=True, annot_kws={'size':15})\n",
    "\n",
    "'''Here, I am checking each and every feature correlation by using Heatmap'''"
   ]
  },
  {
   "cell_type": "code",
   "execution_count": 30,
   "id": "5a7cae4f",
   "metadata": {},
   "outputs": [],
   "source": [
    "\n",
    "from sklearn.tree import DecisionTreeRegressor\n",
    "from sklearn.preprocessing import StandardScaler\n",
    "\n",
    "# sklearn lib. \n",
    "\n",
    "from sklearn.ensemble import RandomForestRegressor\n",
    "\n",
    "\n",
    "from sklearn.model_selection import GridSearchCV\n",
    "\n",
    "\n",
    "from sklearn.model_selection import train_test_split,GridSearchCV\n",
    "\n",
    "from sklearn.metrics import mean_squared_error,mean_absolute_error,r2_score\n",
    "\n",
    "from sklearn.model_selection import RandomizedSearchCV\n",
    "\n",
    "from sklearn.linear_model import LinearRegression\n"
   ]
  },
  {
   "cell_type": "code",
   "execution_count": 31,
   "id": "1dd7289f",
   "metadata": {},
   "outputs": [
    {
     "data": {
      "text/plain": [
       "'Separte the independent Feature and the target feature for model cration'"
      ]
     },
     "execution_count": 31,
     "metadata": {},
     "output_type": "execute_result"
    }
   ],
   "source": [
    "X=df.drop(labels=['pressure level'],axis=1)\n",
    "y=df[\"pressure level\"]\n",
    "\n",
    "'''Separte the independent Feature and the target feature for model cration'''"
   ]
  },
  {
   "cell_type": "code",
   "execution_count": 32,
   "id": "516f4112",
   "metadata": {},
   "outputs": [
    {
     "ename": "NameError",
     "evalue": "name 'X_scaled' is not defined",
     "output_type": "error",
     "traceback": [
      "\u001b[1;31m---------------------------------------------------------------------------\u001b[0m",
      "\u001b[1;31mNameError\u001b[0m                                 Traceback (most recent call last)",
      "\u001b[1;32m~\\AppData\\Local\\Temp/ipykernel_13720/540231436.py\u001b[0m in \u001b[0;36m<module>\u001b[1;34m\u001b[0m\n\u001b[0;32m      1\u001b[0m \u001b[1;32mfrom\u001b[0m \u001b[0mstatsmodels\u001b[0m\u001b[1;33m.\u001b[0m\u001b[0mstats\u001b[0m\u001b[1;33m.\u001b[0m\u001b[0moutliers_influence\u001b[0m \u001b[1;32mimport\u001b[0m \u001b[0mvariance_inflation_factor\u001b[0m\u001b[1;33m\u001b[0m\u001b[1;33m\u001b[0m\u001b[0m\n\u001b[0;32m      2\u001b[0m \u001b[1;33m\u001b[0m\u001b[0m\n\u001b[1;32m----> 3\u001b[1;33m \u001b[0mvariables\u001b[0m \u001b[1;33m=\u001b[0m \u001b[0mX_scaled\u001b[0m\u001b[1;33m\u001b[0m\u001b[1;33m\u001b[0m\u001b[0m\n\u001b[0m\u001b[0;32m      4\u001b[0m \u001b[1;33m\u001b[0m\u001b[0m\n\u001b[0;32m      5\u001b[0m \u001b[0mvif\u001b[0m \u001b[1;33m=\u001b[0m \u001b[0mpd\u001b[0m\u001b[1;33m.\u001b[0m\u001b[0mDataFrame\u001b[0m\u001b[1;33m(\u001b[0m\u001b[1;33m)\u001b[0m\u001b[1;33m\u001b[0m\u001b[1;33m\u001b[0m\u001b[0m\n",
      "\u001b[1;31mNameError\u001b[0m: name 'X_scaled' is not defined"
     ]
    }
   ],
   "source": [
    "from statsmodels.stats.outliers_influence import variance_inflation_factor\n",
    "\n",
    "variables = X_scaled\n",
    "\n",
    "vif = pd.DataFrame()\n",
    "print(vif)\n",
    "print(\"\\n\",70*\"=\")\n",
    "\n",
    "vif[\"VIF\"] = [variance_inflation_factor(variables, i) for i in range(variables.shape[1])]\n",
    "print(\"VIF of the features to reduce multicolinearity\",\"\\n\",vif[\"VIF\"])\n",
    "print(\"\\n\",70*\"=\")\n",
    "\n",
    "'''How the features are related to each other, when the features are highly corelated to each other\n",
    "according to linear assumpution drop those features , becaues these are causes overfitting issues'''\n",
    "\n",
    "print(\"Shape: \" ,variables.shape)\n",
    "\n",
    "# all variables are in moderate condiotions"
   ]
  },
  {
   "cell_type": "code",
   "execution_count": 33,
   "id": "d53f8ee3",
   "metadata": {},
   "outputs": [],
   "source": [
    "## no multi colinearity\n"
   ]
  },
  {
   "cell_type": "code",
   "execution_count": 34,
   "id": "5949f8ba",
   "metadata": {},
   "outputs": [
    {
     "data": {
      "text/html": [
       "<div>\n",
       "<style scoped>\n",
       "    .dataframe tbody tr th:only-of-type {\n",
       "        vertical-align: middle;\n",
       "    }\n",
       "\n",
       "    .dataframe tbody tr th {\n",
       "        vertical-align: top;\n",
       "    }\n",
       "\n",
       "    .dataframe thead th {\n",
       "        text-align: right;\n",
       "    }\n",
       "</style>\n",
       "<table border=\"1\" class=\"dataframe\">\n",
       "  <thead>\n",
       "    <tr style=\"text-align: right;\">\n",
       "      <th></th>\n",
       "      <th>Frequency</th>\n",
       "      <th>Angle of attack</th>\n",
       "      <th>Chord length(m)</th>\n",
       "      <th>Free-stream velocity</th>\n",
       "      <th>Suction side</th>\n",
       "    </tr>\n",
       "  </thead>\n",
       "  <tbody>\n",
       "    <tr>\n",
       "      <th>0</th>\n",
       "      <td>800</td>\n",
       "      <td>0.0</td>\n",
       "      <td>0.3048</td>\n",
       "      <td>71.3</td>\n",
       "      <td>0.002663</td>\n",
       "    </tr>\n",
       "    <tr>\n",
       "      <th>1</th>\n",
       "      <td>1000</td>\n",
       "      <td>0.0</td>\n",
       "      <td>0.3048</td>\n",
       "      <td>71.3</td>\n",
       "      <td>0.002663</td>\n",
       "    </tr>\n",
       "    <tr>\n",
       "      <th>2</th>\n",
       "      <td>1250</td>\n",
       "      <td>0.0</td>\n",
       "      <td>0.3048</td>\n",
       "      <td>71.3</td>\n",
       "      <td>0.002663</td>\n",
       "    </tr>\n",
       "    <tr>\n",
       "      <th>3</th>\n",
       "      <td>1600</td>\n",
       "      <td>0.0</td>\n",
       "      <td>0.3048</td>\n",
       "      <td>71.3</td>\n",
       "      <td>0.002663</td>\n",
       "    </tr>\n",
       "    <tr>\n",
       "      <th>4</th>\n",
       "      <td>2000</td>\n",
       "      <td>0.0</td>\n",
       "      <td>0.3048</td>\n",
       "      <td>71.3</td>\n",
       "      <td>0.002663</td>\n",
       "    </tr>\n",
       "    <tr>\n",
       "      <th>...</th>\n",
       "      <td>...</td>\n",
       "      <td>...</td>\n",
       "      <td>...</td>\n",
       "      <td>...</td>\n",
       "      <td>...</td>\n",
       "    </tr>\n",
       "    <tr>\n",
       "      <th>1498</th>\n",
       "      <td>2500</td>\n",
       "      <td>15.6</td>\n",
       "      <td>0.1016</td>\n",
       "      <td>39.6</td>\n",
       "      <td>0.035137</td>\n",
       "    </tr>\n",
       "    <tr>\n",
       "      <th>1499</th>\n",
       "      <td>3150</td>\n",
       "      <td>15.6</td>\n",
       "      <td>0.1016</td>\n",
       "      <td>39.6</td>\n",
       "      <td>0.035137</td>\n",
       "    </tr>\n",
       "    <tr>\n",
       "      <th>1500</th>\n",
       "      <td>4000</td>\n",
       "      <td>15.6</td>\n",
       "      <td>0.1016</td>\n",
       "      <td>39.6</td>\n",
       "      <td>0.035137</td>\n",
       "    </tr>\n",
       "    <tr>\n",
       "      <th>1501</th>\n",
       "      <td>5000</td>\n",
       "      <td>15.6</td>\n",
       "      <td>0.1016</td>\n",
       "      <td>39.6</td>\n",
       "      <td>0.035137</td>\n",
       "    </tr>\n",
       "    <tr>\n",
       "      <th>1502</th>\n",
       "      <td>6300</td>\n",
       "      <td>15.6</td>\n",
       "      <td>0.1016</td>\n",
       "      <td>39.6</td>\n",
       "      <td>0.035137</td>\n",
       "    </tr>\n",
       "  </tbody>\n",
       "</table>\n",
       "<p>1503 rows × 5 columns</p>\n",
       "</div>"
      ],
      "text/plain": [
       "      Frequency  Angle of attack  Chord length(m)  Free-stream velocity  \\\n",
       "0           800              0.0           0.3048                  71.3   \n",
       "1          1000              0.0           0.3048                  71.3   \n",
       "2          1250              0.0           0.3048                  71.3   \n",
       "3          1600              0.0           0.3048                  71.3   \n",
       "4          2000              0.0           0.3048                  71.3   \n",
       "...         ...              ...              ...                   ...   \n",
       "1498       2500             15.6           0.1016                  39.6   \n",
       "1499       3150             15.6           0.1016                  39.6   \n",
       "1500       4000             15.6           0.1016                  39.6   \n",
       "1501       5000             15.6           0.1016                  39.6   \n",
       "1502       6300             15.6           0.1016                  39.6   \n",
       "\n",
       "      Suction side  \n",
       "0         0.002663  \n",
       "1         0.002663  \n",
       "2         0.002663  \n",
       "3         0.002663  \n",
       "4         0.002663  \n",
       "...            ...  \n",
       "1498      0.035137  \n",
       "1499      0.035137  \n",
       "1500      0.035137  \n",
       "1501      0.035137  \n",
       "1502      0.035137  \n",
       "\n",
       "[1503 rows x 5 columns]"
      ]
     },
     "execution_count": 34,
     "metadata": {},
     "output_type": "execute_result"
    }
   ],
   "source": [
    "X"
   ]
  },
  {
   "cell_type": "code",
   "execution_count": 35,
   "id": "20b9f29c",
   "metadata": {},
   "outputs": [
    {
     "data": {
      "text/plain": [
       "0    126.201\n",
       "1    125.201\n",
       "2    125.951\n",
       "3    127.591\n",
       "4    127.461\n",
       "Name: pressure level, dtype: float64"
      ]
     },
     "execution_count": 35,
     "metadata": {},
     "output_type": "execute_result"
    }
   ],
   "source": [
    "y.head()"
   ]
  },
  {
   "cell_type": "code",
   "execution_count": 36,
   "id": "d57e50c3",
   "metadata": {},
   "outputs": [],
   "source": [
    "from sklearn.preprocessing import StandardScaler"
   ]
  },
  {
   "cell_type": "code",
   "execution_count": 37,
   "id": "9a8c6056",
   "metadata": {},
   "outputs": [
    {
     "data": {
      "text/plain": [
       "'\"For Liner regression algorithm scaling the data set,\\nto give equal importance to all features\"'"
      ]
     },
     "execution_count": 37,
     "metadata": {},
     "output_type": "execute_result"
    }
   ],
   "source": [
    "scaler =StandardScaler()\n",
    "\n",
    "X_scaled = scaler.fit_transform(X)\n",
    "\n",
    "'''\"For Liner regression algorithm scaling the data set,\n",
    "to give equal importance to all features\"'''\n",
    "\n"
   ]
  },
  {
   "cell_type": "code",
   "execution_count": 38,
   "id": "7e215f89",
   "metadata": {},
   "outputs": [
    {
     "data": {
      "text/plain": [
       "array([[-0.751665  , -1.14937599,  1.79929926,  1.31293526, -0.69812808],\n",
       "       [-0.67188388, -1.14937599,  1.79929926,  1.31293526, -0.69812808],\n",
       "       [-0.57215748, -1.14937599,  1.79929926,  1.31293526, -0.69812808],\n",
       "       ...,\n",
       "       [ 0.5248329 ,  1.49781407, -0.37373954, -0.72334483,  2.26262679],\n",
       "       [ 0.92373849,  1.49781407, -0.37373954, -0.72334483,  2.26262679],\n",
       "       [ 1.44231576,  1.49781407, -0.37373954, -0.72334483,  2.26262679]])"
      ]
     },
     "execution_count": 38,
     "metadata": {},
     "output_type": "execute_result"
    }
   ],
   "source": [
    "X_scaled"
   ]
  },
  {
   "cell_type": "code",
   "execution_count": 39,
   "id": "a35cb8ff",
   "metadata": {},
   "outputs": [
    {
     "data": {
      "text/plain": [
       "array([[8.0000000e+02, 0.0000000e+00, 3.0480000e-01, 7.1300000e+01,\n",
       "        2.6633700e-03],\n",
       "       [1.0000000e+03, 0.0000000e+00, 3.0480000e-01, 7.1300000e+01,\n",
       "        2.6633700e-03],\n",
       "       [1.2500000e+03, 0.0000000e+00, 3.0480000e-01, 7.1300000e+01,\n",
       "        2.6633700e-03],\n",
       "       ...,\n",
       "       [4.0000000e+03, 1.5600000e+01, 1.0160000e-01, 3.9600000e+01,\n",
       "        3.5137085e-02],\n",
       "       [5.0000000e+03, 1.5600000e+01, 1.0160000e-01, 3.9600000e+01,\n",
       "        3.5137085e-02],\n",
       "       [6.3000000e+03, 1.5600000e+01, 1.0160000e-01, 3.9600000e+01,\n",
       "        3.5137085e-02]])"
      ]
     },
     "execution_count": 39,
     "metadata": {},
     "output_type": "execute_result"
    }
   ],
   "source": [
    "scaler.inverse_transform(X_scaled) # inverse transfor for the "
   ]
  },
  {
   "cell_type": "code",
   "execution_count": 40,
   "id": "c30e91e5",
   "metadata": {},
   "outputs": [
    {
     "data": {
      "text/html": [
       "<div>\n",
       "<style scoped>\n",
       "    .dataframe tbody tr th:only-of-type {\n",
       "        vertical-align: middle;\n",
       "    }\n",
       "\n",
       "    .dataframe tbody tr th {\n",
       "        vertical-align: top;\n",
       "    }\n",
       "\n",
       "    .dataframe thead th {\n",
       "        text-align: right;\n",
       "    }\n",
       "</style>\n",
       "<table border=\"1\" class=\"dataframe\">\n",
       "  <thead>\n",
       "    <tr style=\"text-align: right;\">\n",
       "      <th></th>\n",
       "      <th>0</th>\n",
       "      <th>1</th>\n",
       "      <th>2</th>\n",
       "      <th>3</th>\n",
       "      <th>4</th>\n",
       "    </tr>\n",
       "  </thead>\n",
       "  <tbody>\n",
       "    <tr>\n",
       "      <th>0</th>\n",
       "      <td>800.0</td>\n",
       "      <td>0.0</td>\n",
       "      <td>0.3048</td>\n",
       "      <td>71.3</td>\n",
       "      <td>0.002663</td>\n",
       "    </tr>\n",
       "    <tr>\n",
       "      <th>1</th>\n",
       "      <td>1000.0</td>\n",
       "      <td>0.0</td>\n",
       "      <td>0.3048</td>\n",
       "      <td>71.3</td>\n",
       "      <td>0.002663</td>\n",
       "    </tr>\n",
       "    <tr>\n",
       "      <th>2</th>\n",
       "      <td>1250.0</td>\n",
       "      <td>0.0</td>\n",
       "      <td>0.3048</td>\n",
       "      <td>71.3</td>\n",
       "      <td>0.002663</td>\n",
       "    </tr>\n",
       "    <tr>\n",
       "      <th>3</th>\n",
       "      <td>1600.0</td>\n",
       "      <td>0.0</td>\n",
       "      <td>0.3048</td>\n",
       "      <td>71.3</td>\n",
       "      <td>0.002663</td>\n",
       "    </tr>\n",
       "    <tr>\n",
       "      <th>4</th>\n",
       "      <td>2000.0</td>\n",
       "      <td>0.0</td>\n",
       "      <td>0.3048</td>\n",
       "      <td>71.3</td>\n",
       "      <td>0.002663</td>\n",
       "    </tr>\n",
       "  </tbody>\n",
       "</table>\n",
       "</div>"
      ],
      "text/plain": [
       "        0    1       2     3         4\n",
       "0   800.0  0.0  0.3048  71.3  0.002663\n",
       "1  1000.0  0.0  0.3048  71.3  0.002663\n",
       "2  1250.0  0.0  0.3048  71.3  0.002663\n",
       "3  1600.0  0.0  0.3048  71.3  0.002663\n",
       "4  2000.0  0.0  0.3048  71.3  0.002663"
      ]
     },
     "execution_count": 40,
     "metadata": {},
     "output_type": "execute_result"
    }
   ],
   "source": [
    "pd.DataFrame(scaler.inverse_transform(X_scaled)).head()"
   ]
  },
  {
   "cell_type": "code",
   "execution_count": 41,
   "id": "95c4c3e8",
   "metadata": {},
   "outputs": [
    {
     "data": {
      "text/html": [
       "<div>\n",
       "<style scoped>\n",
       "    .dataframe tbody tr th:only-of-type {\n",
       "        vertical-align: middle;\n",
       "    }\n",
       "\n",
       "    .dataframe tbody tr th {\n",
       "        vertical-align: top;\n",
       "    }\n",
       "\n",
       "    .dataframe thead th {\n",
       "        text-align: right;\n",
       "    }\n",
       "</style>\n",
       "<table border=\"1\" class=\"dataframe\">\n",
       "  <thead>\n",
       "    <tr style=\"text-align: right;\">\n",
       "      <th></th>\n",
       "      <th>Frequency</th>\n",
       "      <th>Angle of attack</th>\n",
       "      <th>Chord length(m)</th>\n",
       "      <th>Free-stream velocity</th>\n",
       "      <th>Suction side</th>\n",
       "    </tr>\n",
       "  </thead>\n",
       "  <tbody>\n",
       "    <tr>\n",
       "      <th>0</th>\n",
       "      <td>800</td>\n",
       "      <td>0.0</td>\n",
       "      <td>0.3048</td>\n",
       "      <td>71.3</td>\n",
       "      <td>0.002663</td>\n",
       "    </tr>\n",
       "    <tr>\n",
       "      <th>1</th>\n",
       "      <td>1000</td>\n",
       "      <td>0.0</td>\n",
       "      <td>0.3048</td>\n",
       "      <td>71.3</td>\n",
       "      <td>0.002663</td>\n",
       "    </tr>\n",
       "    <tr>\n",
       "      <th>2</th>\n",
       "      <td>1250</td>\n",
       "      <td>0.0</td>\n",
       "      <td>0.3048</td>\n",
       "      <td>71.3</td>\n",
       "      <td>0.002663</td>\n",
       "    </tr>\n",
       "    <tr>\n",
       "      <th>3</th>\n",
       "      <td>1600</td>\n",
       "      <td>0.0</td>\n",
       "      <td>0.3048</td>\n",
       "      <td>71.3</td>\n",
       "      <td>0.002663</td>\n",
       "    </tr>\n",
       "    <tr>\n",
       "      <th>4</th>\n",
       "      <td>2000</td>\n",
       "      <td>0.0</td>\n",
       "      <td>0.3048</td>\n",
       "      <td>71.3</td>\n",
       "      <td>0.002663</td>\n",
       "    </tr>\n",
       "  </tbody>\n",
       "</table>\n",
       "</div>"
      ],
      "text/plain": [
       "   Frequency  Angle of attack  Chord length(m)  Free-stream velocity  \\\n",
       "0        800              0.0           0.3048                  71.3   \n",
       "1       1000              0.0           0.3048                  71.3   \n",
       "2       1250              0.0           0.3048                  71.3   \n",
       "3       1600              0.0           0.3048                  71.3   \n",
       "4       2000              0.0           0.3048                  71.3   \n",
       "\n",
       "   Suction side  \n",
       "0      0.002663  \n",
       "1      0.002663  \n",
       "2      0.002663  \n",
       "3      0.002663  \n",
       "4      0.002663  "
      ]
     },
     "execution_count": 41,
     "metadata": {},
     "output_type": "execute_result"
    }
   ],
   "source": [
    "X.head()"
   ]
  },
  {
   "cell_type": "code",
   "execution_count": null,
   "id": "785fad3d",
   "metadata": {},
   "outputs": [],
   "source": []
  },
  {
   "cell_type": "code",
   "execution_count": 42,
   "id": "0eacd8ac",
   "metadata": {},
   "outputs": [],
   "source": [
    "from sklearn.model_selection import train_test_split"
   ]
  },
  {
   "cell_type": "code",
   "execution_count": 43,
   "id": "08b221ff",
   "metadata": {},
   "outputs": [
    {
     "data": {
      "text/plain": [
       "'X_scaled : independent variable after scaling,\\ny: dependent variable'"
      ]
     },
     "execution_count": 43,
     "metadata": {},
     "output_type": "execute_result"
    }
   ],
   "source": [
    "X_train,x_test,y_train,y_test = train_test_split(\n",
    "    X_scaled,y,test_size = 0.2,random_state=50) \n",
    "\n",
    "'''Spliting the data for training data and testing data \n",
    "for train and evaluation the model'''\n",
    "#cross_validation\n",
    "\n",
    "'''X_scaled : independent variable after scaling,\n",
    "y: dependent variable'''"
   ]
  },
  {
   "cell_type": "code",
   "execution_count": 44,
   "id": "05b3ace6",
   "metadata": {},
   "outputs": [
    {
     "name": "stdout",
     "output_type": "stream",
     "text": [
      "Train data column 1202 and row 5\n",
      "Test data column 301 and row 5\n"
     ]
    }
   ],
   "source": [
    "print(\"Train data column {a} and row {b}\".format(a=X_train.shape[0],b=X_train.shape[1]))\n",
    "print(\"Test data column {a} and row {b}\".format(a=x_test.shape[0],b=x_test.shape[1]))      \n",
    "      \n",
    "      \n"
   ]
  },
  {
   "cell_type": "code",
   "execution_count": 45,
   "id": "926e5597",
   "metadata": {},
   "outputs": [
    {
     "data": {
      "text/plain": [
       "(301,)"
      ]
     },
     "execution_count": 45,
     "metadata": {},
     "output_type": "execute_result"
    }
   ],
   "source": [
    "y_test.shape"
   ]
  },
  {
   "cell_type": "code",
   "execution_count": 46,
   "id": "c8eae5ec",
   "metadata": {},
   "outputs": [],
   "source": [
    "from sklearn.linear_model import LinearRegression"
   ]
  },
  {
   "cell_type": "code",
   "execution_count": 47,
   "id": "d467b984",
   "metadata": {},
   "outputs": [
    {
     "data": {
      "text/plain": [
       "' Fit the train dataset in mopdel for training'"
      ]
     },
     "execution_count": 47,
     "metadata": {},
     "output_type": "execute_result"
    }
   ],
   "source": [
    "model_linear = LinearRegression()\n",
    "\n",
    "model_linear.fit(X_train,y_train)\n",
    "\n",
    "''' Fit the train dataset in mopdel for training'''"
   ]
  },
  {
   "cell_type": "code",
   "execution_count": 49,
   "id": "ec1956a2",
   "metadata": {},
   "outputs": [
    {
     "name": "stdout",
     "output_type": "stream",
     "text": [
      "Linear model training score 53.52819523396399\n",
      "Linear model testing score 48.89286227183931\n"
     ]
    },
    {
     "data": {
      "text/plain": [
       "' model show that its overfitting, because the test score is  less than train score\\nand it indicate that low bias , high variance'"
      ]
     },
     "execution_count": 49,
     "metadata": {},
     "output_type": "execute_result"
    }
   ],
   "source": [
    "print(\"Linear model training score\",model_linear.score(X_train,y_train)*100)\n",
    "print(\"Linear model testing score\",model_linear.score(x_test, y_test)*100)\n",
    "\n",
    "''' model show that its overfitting, because the test score is  less than train score\n",
    "and it indicate that low bias , high variance'''"
   ]
  },
  {
   "cell_type": "code",
   "execution_count": 50,
   "id": "6c2af473",
   "metadata": {},
   "outputs": [
    {
     "data": {
      "text/plain": [
       "array([[-0.27297829, -0.0124418 , -0.37373954,  0.29800701, -0.46558634],\n",
       "       [-0.97106308,  2.54141784, -1.18862909, -0.72334483,  1.14717946],\n",
       "       [-0.87133668,  2.19354992, -0.91699924, -0.72334483,  2.26262679],\n",
       "       ...,\n",
       "       [-0.67188388, -0.64030098,  1.79929926, -0.72334483, -0.48897153],\n",
       "       [ 0.18576314, -0.58939348, -0.37373954,  0.29800701, -0.73937241],\n",
       "       [ 1.44231576, -0.64030098,  1.79929926,  1.31293526, -0.55280601]])"
      ]
     },
     "execution_count": 50,
     "metadata": {},
     "output_type": "execute_result"
    }
   ],
   "source": [
    "X_train"
   ]
  },
  {
   "cell_type": "code",
   "execution_count": 271,
   "id": "5c3006ab",
   "metadata": {},
   "outputs": [
    {
     "data": {
      "text/plain": [
       "4.635332962124683"
      ]
     },
     "execution_count": 271,
     "metadata": {},
     "output_type": "execute_result"
    }
   ],
   "source": [
    "(0.5352819523396399-0.4889286227183931)*100"
   ]
  },
  {
   "cell_type": "code",
   "execution_count": 224,
   "id": "fe2280fd",
   "metadata": {},
   "outputs": [
    {
     "name": "stdout",
     "output_type": "stream",
     "text": [
      "Train data score 53.52819523396399\n",
      "Train data r2_score 53.52819523396399\n",
      "Train data MSE: 21.954493088759037\n",
      "Train data MAE: 3.5677613024576167\n",
      "Train data RMSE: 4.685562195591799\n"
     ]
    }
   ],
   "source": [
    "y_hat_linear_tr=model_linear.predict(X_train)\n",
    "\n",
    "print(\"Train data score\",model_linear.score(X_train, y_train)*100)\n",
    "print(\"Train data r2_score\",r2_score(y_train,y_hat_linear_tr)*100)\n",
    "print(\"Train data MSE:\",mean_squared_error(y_train,y_hat_linear_tr))\n",
    "print(\"Train data MAE:\",mean_absolute_error(y_train,y_hat_linear_tr))\n",
    "print(\"Train data RMSE:\",np.sqrt(mean_squared_error(y_train,y_hat_linear_tr)))"
   ]
  },
  {
   "cell_type": "markdown",
   "id": "0a542acc",
   "metadata": {},
   "source": [
    "**r2-squared shows how well the data fit the regression model (the goodness of fit),R-Squared (R² or the coefficient of determination), range=0 to 1**"
   ]
  },
  {
   "cell_type": "code",
   "execution_count": 227,
   "id": "bf530d2d",
   "metadata": {},
   "outputs": [
    {
     "data": {
      "text/html": [
       "<div>\n",
       "<style scoped>\n",
       "    .dataframe tbody tr th:only-of-type {\n",
       "        vertical-align: middle;\n",
       "    }\n",
       "\n",
       "    .dataframe tbody tr th {\n",
       "        vertical-align: top;\n",
       "    }\n",
       "\n",
       "    .dataframe thead th {\n",
       "        text-align: right;\n",
       "    }\n",
       "</style>\n",
       "<table border=\"1\" class=\"dataframe\">\n",
       "  <thead>\n",
       "    <tr style=\"text-align: right;\">\n",
       "      <th></th>\n",
       "      <th>Real Values train (actual)</th>\n",
       "      <th>Predicted Values train (y_hat)</th>\n",
       "    </tr>\n",
       "  </thead>\n",
       "  <tbody>\n",
       "    <tr>\n",
       "      <th>1358</th>\n",
       "      <td>129.653</td>\n",
       "      <td>128.422192</td>\n",
       "    </tr>\n",
       "    <tr>\n",
       "      <th>1226</th>\n",
       "      <td>117.386</td>\n",
       "      <td>122.479224</td>\n",
       "    </tr>\n",
       "    <tr>\n",
       "      <th>952</th>\n",
       "      <td>128.444</td>\n",
       "      <td>120.807678</td>\n",
       "    </tr>\n",
       "    <tr>\n",
       "      <th>578</th>\n",
       "      <td>119.137</td>\n",
       "      <td>123.768018</td>\n",
       "    </tr>\n",
       "    <tr>\n",
       "      <th>1254</th>\n",
       "      <td>126.170</td>\n",
       "      <td>134.847216</td>\n",
       "    </tr>\n",
       "  </tbody>\n",
       "</table>\n",
       "</div>"
      ],
      "text/plain": [
       "      Real Values train (actual)  Predicted Values train (y_hat) \n",
       "1358                     129.653                       128.422192\n",
       "1226                     117.386                       122.479224\n",
       "952                      128.444                       120.807678\n",
       "578                      119.137                       123.768018\n",
       "1254                     126.170                       134.847216"
      ]
     },
     "execution_count": 227,
     "metadata": {},
     "output_type": "execute_result"
    }
   ],
   "source": [
    "linear_train=pd.DataFrame({'Real Values train (actual)':y_train, 'Predicted Values train (y_hat) ':y_hat_linear_tr})\n",
    "linear_train.head()"
   ]
  },
  {
   "cell_type": "code",
   "execution_count": 253,
   "id": "429eb278",
   "metadata": {},
   "outputs": [
    {
     "name": "stdout",
     "output_type": "stream",
     "text": [
      "Test data score 0.4889286227183931\n",
      "Test data r2_score 0.4889286227183931\n",
      "Test data MSE: 24.951848765037813\n",
      "Test data MAE: 3.82021471106485\n",
      "Test data RMSE: 4.995182555726849\n"
     ]
    }
   ],
   "source": [
    "y_hat_linear_ts=model_linear.predict(x_test)\n",
    "\n",
    "print(\"Test data score\",model_linear.score(x_test, y_test))\n",
    "print(\"Test data r2_score\",r2_score(y_test,y_hat_linear_ts)) # (coefficient of determination) regression score function.(1.0)\n",
    "print(\"Test data MSE:\",mean_squared_error(y_test,y_hat_linear_ts))\n",
    "print(\"Test data MAE:\",mean_absolute_error(y_test,y_hat_linear_ts))\n",
    "print(\"Test data RMSE:\", np.sqrt(mean_squared_error(y_test,y_hat_linear_ts)))"
   ]
  },
  {
   "cell_type": "code",
   "execution_count": 112,
   "id": "41ee522a",
   "metadata": {},
   "outputs": [
    {
     "data": {
      "text/html": [
       "<div>\n",
       "<style scoped>\n",
       "    .dataframe tbody tr th:only-of-type {\n",
       "        vertical-align: middle;\n",
       "    }\n",
       "\n",
       "    .dataframe tbody tr th {\n",
       "        vertical-align: top;\n",
       "    }\n",
       "\n",
       "    .dataframe thead th {\n",
       "        text-align: right;\n",
       "    }\n",
       "</style>\n",
       "<table border=\"1\" class=\"dataframe\">\n",
       "  <thead>\n",
       "    <tr style=\"text-align: right;\">\n",
       "      <th></th>\n",
       "      <th>Real Values test</th>\n",
       "      <th>Predicted Values test</th>\n",
       "    </tr>\n",
       "  </thead>\n",
       "  <tbody>\n",
       "    <tr>\n",
       "      <th>968</th>\n",
       "      <td>130.787</td>\n",
       "      <td>125.212987</td>\n",
       "    </tr>\n",
       "    <tr>\n",
       "      <th>9</th>\n",
       "      <td>119.541</td>\n",
       "      <td>118.860474</td>\n",
       "    </tr>\n",
       "    <tr>\n",
       "      <th>1468</th>\n",
       "      <td>110.317</td>\n",
       "      <td>118.188460</td>\n",
       "    </tr>\n",
       "    <tr>\n",
       "      <th>1150</th>\n",
       "      <td>117.396</td>\n",
       "      <td>129.239285</td>\n",
       "    </tr>\n",
       "    <tr>\n",
       "      <th>880</th>\n",
       "      <td>127.625</td>\n",
       "      <td>123.981064</td>\n",
       "    </tr>\n",
       "  </tbody>\n",
       "</table>\n",
       "</div>"
      ],
      "text/plain": [
       "      Real Values test  Predicted Values test \n",
       "968            130.787              125.212987\n",
       "9              119.541              118.860474\n",
       "1468           110.317              118.188460\n",
       "1150           117.396              129.239285\n",
       "880            127.625              123.981064"
      ]
     },
     "execution_count": 112,
     "metadata": {},
     "output_type": "execute_result"
    }
   ],
   "source": [
    "linear_test=pd.DataFrame({'Real Values test':y_test, 'Predicted Values test ':y_hat_linear_ts})\n",
    "linear_test.head()"
   ]
  },
  {
   "cell_type": "code",
   "execution_count": 228,
   "id": "69d87635",
   "metadata": {},
   "outputs": [],
   "source": [
    "from sklearn.model_selection import cross_validate"
   ]
  },
  {
   "cell_type": "code",
   "execution_count": 250,
   "id": "6909ebca",
   "metadata": {},
   "outputs": [
    {
     "data": {
      "text/plain": [
       "-22.200095843417404"
      ]
     },
     "execution_count": 250,
     "metadata": {},
     "output_type": "execute_result"
    }
   ],
   "source": [
    "from sklearn.model_selection import cross_val_score\n",
    "cv_results = cross_val_score(model_linear, X_train, y_train, cv=5,scoring=('neg_mean_squared_error'))\n",
    "cv_results.mean()"
   ]
  },
  {
   "cell_type": "code",
   "execution_count": 251,
   "id": "d73d93ec",
   "metadata": {},
   "outputs": [
    {
     "data": {
      "text/plain": [
       "-22.200095843417404"
      ]
     },
     "execution_count": 251,
     "metadata": {},
     "output_type": "execute_result"
    }
   ],
   "source": [
    "import numpy as np\n",
    "np.mean(cv_results)"
   ]
  },
  {
   "cell_type": "code",
   "execution_count": 252,
   "id": "3668ce4a",
   "metadata": {},
   "outputs": [
    {
     "data": {
      "text/plain": [
       "-22.200095843417404"
      ]
     },
     "execution_count": 252,
     "metadata": {},
     "output_type": "execute_result"
    }
   ],
   "source": [
    "\n",
    "# 1st parameter is estimater jo hmne bnaya h regression\n",
    "# 2nd aayga training and test dataset\n",
    "## 3rd  Scoring parameter \n",
    "cross_val_score(model_linear,X_train,y_train,scoring='neg_mean_squared_error',cv=5)\n",
    "mse=cross_val_score(model_linear,X_train,y_train,scoring='neg_mean_squared_error',cv=5)\n",
    "np.mean(mse)"
   ]
  },
  {
   "cell_type": "code",
   "execution_count": 233,
   "id": "152a7462",
   "metadata": {},
   "outputs": [
    {
     "name": "stdout",
     "output_type": "stream",
     "text": [
      "[ -8.37178769 -18.65302363 -23.40185407 -52.61555001 -24.4668215 ]\n"
     ]
    }
   ],
   "source": [
    "scores = cross_validate(model_linear, X, y, cv=5,\n",
    "                        scoring=('r2', 'neg_mean_squared_error'),\n",
    "                        return_train_score=True)\n",
    "print(scores['test_neg_mean_squared_error'])###Random Forest:"
   ]
  },
  {
   "cell_type": "code",
   "execution_count": 114,
   "id": "f261121f",
   "metadata": {},
   "outputs": [],
   "source": [
    "x_train,x_test,y_train,y_test = train_test_split(X,y,test_size = 0.2,random_state=0) "
   ]
  },
  {
   "cell_type": "code",
   "execution_count": 115,
   "id": "f243bf9f",
   "metadata": {},
   "outputs": [
    {
     "data": {
      "text/plain": [
       "RandomForestRegressor()"
      ]
     },
     "execution_count": 115,
     "metadata": {},
     "output_type": "execute_result"
    }
   ],
   "source": [
    "model_rf = RandomForestRegressor()\n",
    "model_rf.fit(x_train, y_train)"
   ]
  },
  {
   "cell_type": "code",
   "execution_count": 116,
   "id": "7646b361",
   "metadata": {},
   "outputs": [
    {
     "name": "stdout",
     "output_type": "stream",
     "text": [
      "Forest model training score 0.9864337322258254\n",
      "Forest model testing score 0.9228266120164866\n"
     ]
    }
   ],
   "source": [
    "print(\"Forest model training score\",model_rf.score(x_train,y_train))\n",
    "print(\"Forest model testing score\",model_rf.score(x_test, y_test))"
   ]
  },
  {
   "cell_type": "code",
   "execution_count": 118,
   "id": "79da8166",
   "metadata": {},
   "outputs": [
    {
     "name": "stdout",
     "output_type": "stream",
     "text": [
      "Train data score 0.9864337322258254\n",
      "Train data r2_score 0.9864337322258254\n",
      "Train data MSE: 0.6469733730124861\n",
      "Train data MAE: 0.5183856383330613\n",
      "Train data RMSE: 0.8043465503204984\n"
     ]
    }
   ],
   "source": [
    "y_rf_tr=model_rf.predict(x_train)\n",
    "\n",
    "print(\"Train data score\",model_rf.score(x_train, y_train))\n",
    "print(\"Train data r2_score\",r2_score(y_train,y_rf_tr))\n",
    "print(\"Train data MSE:\",mean_squared_error(y_train,y_rf_tr))\n",
    "print(\"Train data MAE:\",mean_absolute_error(y_train,y_rf_tr))\n",
    "print(\"Train data RMSE:\",np.sqrt(mean_squared_error(y_train,y_rf_tr)))\n",
    "\n"
   ]
  },
  {
   "cell_type": "code",
   "execution_count": 120,
   "id": "aa1cd88e",
   "metadata": {},
   "outputs": [
    {
     "data": {
      "text/html": [
       "<div>\n",
       "<style scoped>\n",
       "    .dataframe tbody tr th:only-of-type {\n",
       "        vertical-align: middle;\n",
       "    }\n",
       "\n",
       "    .dataframe tbody tr th {\n",
       "        vertical-align: top;\n",
       "    }\n",
       "\n",
       "    .dataframe thead th {\n",
       "        text-align: right;\n",
       "    }\n",
       "</style>\n",
       "<table border=\"1\" class=\"dataframe\">\n",
       "  <thead>\n",
       "    <tr style=\"text-align: right;\">\n",
       "      <th></th>\n",
       "      <th>Real Values train</th>\n",
       "      <th>Predicted Values train</th>\n",
       "    </tr>\n",
       "  </thead>\n",
       "  <tbody>\n",
       "    <tr>\n",
       "      <th>1058</th>\n",
       "      <td>127.206</td>\n",
       "      <td>127.85421</td>\n",
       "    </tr>\n",
       "    <tr>\n",
       "      <th>408</th>\n",
       "      <td>136.284</td>\n",
       "      <td>136.19774</td>\n",
       "    </tr>\n",
       "    <tr>\n",
       "      <th>703</th>\n",
       "      <td>117.504</td>\n",
       "      <td>117.96405</td>\n",
       "    </tr>\n",
       "    <tr>\n",
       "      <th>1279</th>\n",
       "      <td>122.341</td>\n",
       "      <td>122.33228</td>\n",
       "    </tr>\n",
       "    <tr>\n",
       "      <th>140</th>\n",
       "      <td>114.042</td>\n",
       "      <td>114.18961</td>\n",
       "    </tr>\n",
       "  </tbody>\n",
       "</table>\n",
       "</div>"
      ],
      "text/plain": [
       "      Real Values train  Predicted Values train\n",
       "1058            127.206               127.85421\n",
       "408             136.284               136.19774\n",
       "703             117.504               117.96405\n",
       "1279            122.341               122.33228\n",
       "140             114.042               114.18961"
      ]
     },
     "execution_count": 120,
     "metadata": {},
     "output_type": "execute_result"
    }
   ],
   "source": [
    "rf_train=pd.DataFrame({\"Real Values train\":y_train, \"Predicted Values train\" :y_rf_tr})\n",
    "rf_train.head()"
   ]
  },
  {
   "cell_type": "code",
   "execution_count": 119,
   "id": "73b5f6fe",
   "metadata": {},
   "outputs": [
    {
     "name": "stdout",
     "output_type": "stream",
     "text": [
      "Test data score 0.9228266120164866\n",
      "Test data r2_score 0.9228266120164866\n",
      "Test data MSE: 3.6301597582725824\n",
      "Test data MAE: 1.337132994779304\n",
      "Test data RMSE: 1.9052978135379735\n"
     ]
    }
   ],
   "source": [
    "y_rf_ts=model_rf.predict(x_test)\n",
    "\n",
    "print(\"Test data score\",model_rf.score(x_test, y_test))\n",
    "print(\"Test data r2_score\",r2_score(y_test,y_rf_ts)) # (coefficient of determination) regression score function.(1.0)\n",
    "print(\"Test data MSE:\",mean_squared_error(y_test,y_rf_ts))\n",
    "print(\"Test data MAE:\",mean_absolute_error(y_test,y_rf_ts))\n",
    "print(\"Test data RMSE:\", np.sqrt(mean_squared_error(y_test,y_rf_ts)))"
   ]
  },
  {
   "cell_type": "code",
   "execution_count": 121,
   "id": "ed72f2ba",
   "metadata": {},
   "outputs": [
    {
     "data": {
      "text/html": [
       "<div>\n",
       "<style scoped>\n",
       "    .dataframe tbody tr th:only-of-type {\n",
       "        vertical-align: middle;\n",
       "    }\n",
       "\n",
       "    .dataframe tbody tr th {\n",
       "        vertical-align: top;\n",
       "    }\n",
       "\n",
       "    .dataframe thead th {\n",
       "        text-align: right;\n",
       "    }\n",
       "</style>\n",
       "<table border=\"1\" class=\"dataframe\">\n",
       "  <thead>\n",
       "    <tr style=\"text-align: right;\">\n",
       "      <th></th>\n",
       "      <th>Real Values test</th>\n",
       "      <th>Predicted Values test</th>\n",
       "    </tr>\n",
       "  </thead>\n",
       "  <tbody>\n",
       "    <tr>\n",
       "      <th>968</th>\n",
       "      <td>130.787</td>\n",
       "      <td>131.504557</td>\n",
       "    </tr>\n",
       "    <tr>\n",
       "      <th>9</th>\n",
       "      <td>119.541</td>\n",
       "      <td>118.756350</td>\n",
       "    </tr>\n",
       "    <tr>\n",
       "      <th>1468</th>\n",
       "      <td>110.317</td>\n",
       "      <td>111.785170</td>\n",
       "    </tr>\n",
       "    <tr>\n",
       "      <th>1150</th>\n",
       "      <td>117.396</td>\n",
       "      <td>116.884960</td>\n",
       "    </tr>\n",
       "    <tr>\n",
       "      <th>880</th>\n",
       "      <td>127.625</td>\n",
       "      <td>125.855320</td>\n",
       "    </tr>\n",
       "  </tbody>\n",
       "</table>\n",
       "</div>"
      ],
      "text/plain": [
       "      Real Values test  Predicted Values test \n",
       "968            130.787              131.504557\n",
       "9              119.541              118.756350\n",
       "1468           110.317              111.785170\n",
       "1150           117.396              116.884960\n",
       "880            127.625              125.855320"
      ]
     },
     "execution_count": 121,
     "metadata": {},
     "output_type": "execute_result"
    }
   ],
   "source": [
    "rf_test=pd.DataFrame({'Real Values test':y_test, 'Predicted Values test ':y_rf_ts})\n",
    "rf_test.head()"
   ]
  },
  {
   "cell_type": "code",
   "execution_count": null,
   "id": "0525c7a1",
   "metadata": {},
   "outputs": [],
   "source": []
  },
  {
   "cell_type": "code",
   "execution_count": null,
   "id": "528c43f3",
   "metadata": {},
   "outputs": [],
   "source": []
  },
  {
   "cell_type": "code",
   "execution_count": null,
   "id": "07f437d8",
   "metadata": {},
   "outputs": [],
   "source": []
  },
  {
   "cell_type": "code",
   "execution_count": null,
   "id": "c141672d",
   "metadata": {},
   "outputs": [],
   "source": []
  },
  {
   "cell_type": "code",
   "execution_count": null,
   "id": "9772ea6e",
   "metadata": {},
   "outputs": [],
   "source": []
  },
  {
   "cell_type": "code",
   "execution_count": null,
   "id": "b1aefe79",
   "metadata": {},
   "outputs": [],
   "source": []
  },
  {
   "cell_type": "code",
   "execution_count": 267,
   "id": "f6502dec",
   "metadata": {},
   "outputs": [
    {
     "data": {
      "text/plain": [
       "GridSearchCV(cv=5, estimator=Lasso(),\n",
       "             param_grid={'alpha': [1, 2, 5, 10, 30, 40, 50, 60, 4, 6, 9, 11]},\n",
       "             scoring='neg_mean_squared_error')"
      ]
     },
     "execution_count": 267,
     "metadata": {},
     "output_type": "execute_result"
    }
   ],
   "source": [
    "from sklearn.linear_model import Lasso\n",
    "lasso=Lasso()\n",
    "parameter={'alpha':[1,2,5,10,30,40,50,60,4,6,9,11]}\n",
    "lassocv=GridSearchCV(lasso,parameter,scoring='neg_mean_squared_error',cv=5)\n",
    "lassocv.fit(X_train,y_train)"
   ]
  },
  {
   "cell_type": "code",
   "execution_count": 268,
   "id": "00ed6a58",
   "metadata": {},
   "outputs": [
    {
     "name": "stdout",
     "output_type": "stream",
     "text": [
      "{'alpha': 1}\n",
      "-30.567278417892574\n"
     ]
    }
   ],
   "source": [
    "print(lassocv.best_params_)\n",
    "print(lassocv.best_score_)"
   ]
  },
  {
   "cell_type": "code",
   "execution_count": 274,
   "id": "2b57f39f",
   "metadata": {},
   "outputs": [
    {
     "data": {
      "text/plain": [
       "GridSearchCV(cv=5, estimator=Lasso(), param_grid={'alpha': range(1, 80)},\n",
       "             scoring='neg_mean_squared_error')"
      ]
     },
     "execution_count": 274,
     "metadata": {},
     "output_type": "execute_result"
    }
   ],
   "source": [
    "from sklearn.linear_model import Lasso\n",
    "lasso=Lasso()\n",
    "parameter={'alpha':range(1,80)}\n",
    "lassocv=GridSearchCV(lasso,parameter,scoring='neg_mean_squared_error',cv=5)\n",
    "lassocv.fit(X_train,y_train)"
   ]
  },
  {
   "cell_type": "code",
   "execution_count": 273,
   "id": "b4edf72a",
   "metadata": {},
   "outputs": [
    {
     "name": "stdout",
     "output_type": "stream",
     "text": [
      "{'alpha': 0}\n",
      "-22.200095843417404\n"
     ]
    }
   ],
   "source": [
    "print(lassocv.best_params_)\n",
    "print(lassocv.best_score_)"
   ]
  },
  {
   "cell_type": "code",
   "execution_count": 262,
   "id": "55994436",
   "metadata": {},
   "outputs": [
    {
     "data": {
      "text/plain": [
       "GridSearchCV(cv=5, estimator=Lasso(), param_grid={'alpha': range(0, 11)},\n",
       "             scoring='neg_mean_squared_error')"
      ]
     },
     "execution_count": 262,
     "metadata": {},
     "output_type": "execute_result"
    }
   ],
   "source": [
    "lassocv"
   ]
  },
  {
   "cell_type": "code",
   "execution_count": 266,
   "id": "a83412f9",
   "metadata": {},
   "outputs": [
    {
     "data": {
      "text/plain": [
       "<seaborn.axisgrid.FacetGrid at 0x17bd6195190>"
      ]
     },
     "execution_count": 266,
     "metadata": {},
     "output_type": "execute_result"
    },
    {
     "data": {
      "image/png": "[encoded data removed]",
      "text/plain": [
       "<Figure size 360x360 with 1 Axes>"
      ]
     },
     "metadata": {
      "needs_background": "light"
     },
     "output_type": "display_data"
    }
   ],
   "source": [
    "lasso_pred=lassocv.predict(x_test)\n",
    "sns.displot(lasso_pred-y_test,kde=True)"
   ]
  },
  {
   "cell_type": "code",
   "execution_count": null,
   "id": "15f8b2f7",
   "metadata": {},
   "outputs": [],
   "source": []
  },
  {
   "cell_type": "code",
   "execution_count": null,
   "id": "e0ac7860",
   "metadata": {},
   "outputs": [],
   "source": []
  },
  {
   "cell_type": "code",
   "execution_count": null,
   "id": "e092f55b",
   "metadata": {},
   "outputs": [],
   "source": []
  },
  {
   "cell_type": "markdown",
   "id": "bf76a7ef",
   "metadata": {},
   "source": [
    "### **@** to achive better accuracy do feture importance and hyperparameter in Randomforest Regression"
   ]
  },
  {
   "cell_type": "code",
   "execution_count": 123,
   "id": "df4c6501",
   "metadata": {},
   "outputs": [],
   "source": [
    "def feat_importance(m,df):\n",
    "    importance = m.feature_importances_\n",
    "    importance = pd.DataFrame(importance,index=df.columns,columns=[\"Importance\"])\n",
    "    return importance.sort_values(by=['Importance'],ascending=False)\n",
    "\n",
    "\n"
   ]
  },
  {
   "cell_type": "code",
   "execution_count": 124,
   "id": "435c852e",
   "metadata": {},
   "outputs": [
    {
     "data": {
      "text/html": [
       "<div>\n",
       "<style scoped>\n",
       "    .dataframe tbody tr th:only-of-type {\n",
       "        vertical-align: middle;\n",
       "    }\n",
       "\n",
       "    .dataframe tbody tr th {\n",
       "        vertical-align: top;\n",
       "    }\n",
       "\n",
       "    .dataframe thead th {\n",
       "        text-align: right;\n",
       "    }\n",
       "</style>\n",
       "<table border=\"1\" class=\"dataframe\">\n",
       "  <thead>\n",
       "    <tr style=\"text-align: right;\">\n",
       "      <th></th>\n",
       "      <th>Importance</th>\n",
       "    </tr>\n",
       "  </thead>\n",
       "  <tbody>\n",
       "    <tr>\n",
       "      <th>Suction side</th>\n",
       "      <td>41.395696</td>\n",
       "    </tr>\n",
       "    <tr>\n",
       "      <th>Frequency</th>\n",
       "      <td>38.178818</td>\n",
       "    </tr>\n",
       "    <tr>\n",
       "      <th>Chord length(m)</th>\n",
       "      <td>10.354877</td>\n",
       "    </tr>\n",
       "    <tr>\n",
       "      <th>Angle of attack</th>\n",
       "      <td>5.065545</td>\n",
       "    </tr>\n",
       "    <tr>\n",
       "      <th>Free-stream velocity</th>\n",
       "      <td>5.005063</td>\n",
       "    </tr>\n",
       "  </tbody>\n",
       "</table>\n",
       "</div>"
      ],
      "text/plain": [
       "                      Importance\n",
       "Suction side           41.395696\n",
       "Frequency              38.178818\n",
       "Chord length(m)        10.354877\n",
       "Angle of attack         5.065545\n",
       "Free-stream velocity    5.005063"
      ]
     },
     "execution_count": 124,
     "metadata": {},
     "output_type": "execute_result"
    }
   ],
   "source": [
    "importance = feat_importance(model_rf,X)\n",
    "importance[:]*100"
   ]
  },
  {
   "cell_type": "code",
   "execution_count": 125,
   "id": "6f5ca7c7",
   "metadata": {},
   "outputs": [
    {
     "data": {
      "image/png": "[encoded data removed]",
      "text/plain": [
       "<Figure size 432x288 with 1 Axes>"
      ]
     },
     "metadata": {
      "needs_background": "light"
     },
     "output_type": "display_data"
    }
   ],
   "source": [
    "#importance.plot(kind='bar')\n",
    "importance.plot(kind='barh')\n",
    "\n",
    "plt.title(\"Bar Plot of Ranked Feature Importance\")\n",
    "plt.show()"
   ]
  },
  {
   "cell_type": "code",
   "execution_count": 129,
   "id": "39fcfea1",
   "metadata": {},
   "outputs": [
    {
     "data": {
      "text/plain": [
       "Index(['Suction side', 'Frequency', 'Chord length(m)', 'Angle of attack',\n",
       "       'Free-stream velocity'],\n",
       "      dtype='object')"
      ]
     },
     "execution_count": 129,
     "metadata": {},
     "output_type": "execute_result"
    }
   ],
   "source": [
    "#Discarding features with feature coefficients less than 0.01\n",
    "\n",
    "to_keep = importance[importance['Importance'] > 0.01].index\n",
    "\n",
    "X_new = X[to_keep].copy()\n",
    "\n",
    "X_new.columns"
   ]
  },
  {
   "cell_type": "code",
   "execution_count": 130,
   "id": "598ea91e",
   "metadata": {},
   "outputs": [
    {
     "data": {
      "text/html": [
       "<div>\n",
       "<style scoped>\n",
       "    .dataframe tbody tr th:only-of-type {\n",
       "        vertical-align: middle;\n",
       "    }\n",
       "\n",
       "    .dataframe tbody tr th {\n",
       "        vertical-align: top;\n",
       "    }\n",
       "\n",
       "    .dataframe thead th {\n",
       "        text-align: right;\n",
       "    }\n",
       "</style>\n",
       "<table border=\"1\" class=\"dataframe\">\n",
       "  <thead>\n",
       "    <tr style=\"text-align: right;\">\n",
       "      <th></th>\n",
       "      <th>Suction side</th>\n",
       "      <th>Frequency</th>\n",
       "      <th>Chord length(m)</th>\n",
       "      <th>Angle of attack</th>\n",
       "      <th>Free-stream velocity</th>\n",
       "    </tr>\n",
       "  </thead>\n",
       "  <tbody>\n",
       "    <tr>\n",
       "      <th>0</th>\n",
       "      <td>0.002663</td>\n",
       "      <td>800</td>\n",
       "      <td>0.3048</td>\n",
       "      <td>0.0</td>\n",
       "      <td>71.3</td>\n",
       "    </tr>\n",
       "    <tr>\n",
       "      <th>1</th>\n",
       "      <td>0.002663</td>\n",
       "      <td>1000</td>\n",
       "      <td>0.3048</td>\n",
       "      <td>0.0</td>\n",
       "      <td>71.3</td>\n",
       "    </tr>\n",
       "    <tr>\n",
       "      <th>2</th>\n",
       "      <td>0.002663</td>\n",
       "      <td>1250</td>\n",
       "      <td>0.3048</td>\n",
       "      <td>0.0</td>\n",
       "      <td>71.3</td>\n",
       "    </tr>\n",
       "    <tr>\n",
       "      <th>3</th>\n",
       "      <td>0.002663</td>\n",
       "      <td>1600</td>\n",
       "      <td>0.3048</td>\n",
       "      <td>0.0</td>\n",
       "      <td>71.3</td>\n",
       "    </tr>\n",
       "    <tr>\n",
       "      <th>4</th>\n",
       "      <td>0.002663</td>\n",
       "      <td>2000</td>\n",
       "      <td>0.3048</td>\n",
       "      <td>0.0</td>\n",
       "      <td>71.3</td>\n",
       "    </tr>\n",
       "  </tbody>\n",
       "</table>\n",
       "</div>"
      ],
      "text/plain": [
       "   Suction side  Frequency  Chord length(m)  Angle of attack  \\\n",
       "0      0.002663        800           0.3048              0.0   \n",
       "1      0.002663       1000           0.3048              0.0   \n",
       "2      0.002663       1250           0.3048              0.0   \n",
       "3      0.002663       1600           0.3048              0.0   \n",
       "4      0.002663       2000           0.3048              0.0   \n",
       "\n",
       "   Free-stream velocity  \n",
       "0                  71.3  \n",
       "1                  71.3  \n",
       "2                  71.3  \n",
       "3                  71.3  \n",
       "4                  71.3  "
      ]
     },
     "execution_count": 130,
     "metadata": {},
     "output_type": "execute_result"
    }
   ],
   "source": [
    "X_new.head()"
   ]
  },
  {
   "cell_type": "code",
   "execution_count": 131,
   "id": "2d616c9e",
   "metadata": {},
   "outputs": [],
   "source": [
    "x_train_f,x_test_f,y_train_f,y_test_f = train_test_split(X_new,y,test_size = 0.30, random_state= 355)"
   ]
  },
  {
   "cell_type": "code",
   "execution_count": 132,
   "id": "a9226472",
   "metadata": {},
   "outputs": [
    {
     "data": {
      "text/plain": [
       "RandomForestRegressor()"
      ]
     },
     "execution_count": 132,
     "metadata": {},
     "output_type": "execute_result"
    }
   ],
   "source": [
    "#let's first visualize the tree on the data without doing any pre processing\n",
    "\n",
    "model_rf_new = RandomForestRegressor()\n",
    "model_rf_new.fit(x_train_f, y_train_f)\n",
    "\n"
   ]
  },
  {
   "cell_type": "code",
   "execution_count": 133,
   "id": "738627ee",
   "metadata": {},
   "outputs": [
    {
     "name": "stdout",
     "output_type": "stream",
     "text": [
      "Train data score 0.9850454645969888\n",
      "Train data r2_score 0.9850454645969888\n",
      "Train data MSE: 0.6890441936427539\n",
      "Train data MAE: 0.5422960446089123\n",
      "Train data RMSE: 0.8300868590953322\n"
     ]
    }
   ],
   "source": [
    "y_rf_tr_n=model_rf_new.predict(x_train_f)\n",
    "\n",
    "print(\"Train data score\",model_rf_new.score(x_train_f, y_train_f))\n",
    "print(\"Train data r2_score\",r2_score(y_train_f,y_rf_tr_n))\n",
    "print(\"Train data MSE:\",mean_squared_error(y_train_f,y_rf_tr_n))\n",
    "print(\"Train data MAE:\",mean_absolute_error(y_train_f,y_rf_tr_n))\n",
    "print(\"Train data RMSE:\",np.sqrt(mean_squared_error(y_train_f,y_rf_tr_n)))"
   ]
  },
  {
   "cell_type": "code",
   "execution_count": 134,
   "id": "de61dea1",
   "metadata": {},
   "outputs": [
    {
     "name": "stdout",
     "output_type": "stream",
     "text": [
      "Test data score 0.921793956967584\n",
      "Test data r2_score 0.921793956967584\n",
      "Test data MSE: 3.9884902320415154\n",
      "Test data MAE: 1.3844702080033824\n",
      "Test data RMSE: 1.9971204851088769\n"
     ]
    }
   ],
   "source": [
    "y_rf_ts_n=model_rf_new.predict(x_test_f)\n",
    "\n",
    "print(\"Test data score\",model_rf_new.score(x_test_f, y_test_f))\n",
    "print(\"Test data r2_score\",r2_score(y_test_f,y_rf_ts_n)) # (coefficient of determination) regression score function.(1.0)\n",
    "print(\"Test data MSE:\",mean_squared_error(y_test_f,y_rf_ts_n))\n",
    "print(\"Test data MAE:\",mean_absolute_error(y_test_f,y_rf_ts_n))\n",
    "print(\"Test data RMSE:\", np.sqrt(mean_squared_error(y_test_f,y_rf_ts_n)))"
   ]
  },
  {
   "cell_type": "code",
   "execution_count": 135,
   "id": "d43f018b",
   "metadata": {},
   "outputs": [
    {
     "data": {
      "text/plain": [
       "'Create dict the parameter of the randomforest'"
      ]
     },
     "execution_count": 135,
     "metadata": {},
     "output_type": "execute_result"
    }
   ],
   "source": [
    "random_param = {\n",
    "    \n",
    "    \"n_estimators\":[10,20,30], \n",
    "    'criterion': [\"squared_error\",\"poisson\", \"absolute_error\"], \n",
    "    'max_depth' : [3,4,5,6],\n",
    "    'min_samples_leaf' : [0.04,0.06,0.08],\n",
    "    'min_samples_split': [2,3,4],\n",
    "    \"bootstrap\":[True,False] \n",
    "    \n",
    "}\n",
    "\n",
    "'''Create dict the parameter of the randomforest'''"
   ]
  },
  {
   "cell_type": "code",
   "execution_count": 136,
   "id": "fa406ce3",
   "metadata": {},
   "outputs": [
    {
     "data": {
      "text/plain": [
       "' By using randomized search cv randomly selcted the data points and create every combination ,and selct the parameter values'"
      ]
     },
     "execution_count": 136,
     "metadata": {},
     "output_type": "execute_result"
    }
   ],
   "source": [
    "random_search = RandomizedSearchCV(estimator=model_rf_new,\n",
    "                     param_distributions=random_param,random_state=42,\n",
    "                     cv=5,\n",
    "                    n_jobs =-1,verbose=2)\n",
    "\n",
    "''' By using randomized search cv randomly selcted the data points and create every combination ,and selct the parameter values'''"
   ]
  },
  {
   "cell_type": "code",
   "execution_count": 137,
   "id": "2ff5376e",
   "metadata": {},
   "outputs": [
    {
     "name": "stdout",
     "output_type": "stream",
     "text": [
      "Fitting 5 folds for each of 10 candidates, totalling 50 fits\n"
     ]
    },
    {
     "data": {
      "text/plain": [
       "'fit the train data in it, and using CV reduce overfitting'"
      ]
     },
     "execution_count": 137,
     "metadata": {},
     "output_type": "execute_result"
    }
   ],
   "source": [
    "random_search.fit(x_train_f,y_train_f)\n",
    "\n",
    "'''fit the train data in it, and using CV reduce overfitting'''"
   ]
  },
  {
   "cell_type": "code",
   "execution_count": 138,
   "id": "951345aa",
   "metadata": {},
   "outputs": [
    {
     "name": "stdout",
     "output_type": "stream",
     "text": [
      "{'n_estimators': 20, 'min_samples_split': 4, 'min_samples_leaf': 0.04, 'max_depth': 5, 'criterion': 'absolute_error', 'bootstrap': True}\n"
     ]
    }
   ],
   "source": [
    "best_parameters = random_search.best_params_\n",
    "print(best_parameters)"
   ]
  },
  {
   "cell_type": "code",
   "execution_count": 139,
   "id": "66b625d0",
   "metadata": {},
   "outputs": [
    {
     "name": "stdout",
     "output_type": "stream",
     "text": [
      "Mean cross-validated score of the best_estimator: 0.5375407268914973\n"
     ]
    }
   ],
   "source": [
    "print(\"Mean cross-validated score of the best_estimator:\",random_search.best_score_ )"
   ]
  },
  {
   "cell_type": "code",
   "execution_count": 140,
   "id": "f4427de6",
   "metadata": {},
   "outputs": [
    {
     "data": {
      "text/plain": [
       "RandomForestRegressor(criterion='absolute_error', max_depth=5,\n",
       "                      min_samples_leaf=0.04, min_samples_split=4,\n",
       "                      n_estimators=20)"
      ]
     },
     "execution_count": 140,
     "metadata": {},
     "output_type": "execute_result"
    }
   ],
   "source": [
    "model_3=RandomForestRegressor(n_estimators= 20, min_samples_split= 4, min_samples_leaf= 0.04, max_depth= 5, criterion= 'absolute_error', bootstrap= True)\n",
    "\n",
    "model_3.fit(x_train_f,y_train_f)"
   ]
  },
  {
   "cell_type": "code",
   "execution_count": 141,
   "id": "6b492e24",
   "metadata": {},
   "outputs": [
    {
     "name": "stdout",
     "output_type": "stream",
     "text": [
      "Train data score 0.5682682162796563\n",
      "Train data r2_score 0.5682682162796563\n",
      "Train data MSE: 19.892445386409822\n",
      "Train data MAE: 3.3869918013307987\n",
      "Train data RMSE: 4.4600947732542435\n"
     ]
    }
   ],
   "source": [
    "y_hat_5=model_3.predict(x_train_f)\n",
    "\n",
    "print(\"Train data score\",model_3.score(x_train_f,y_train_f))\n",
    "print(\"Train data r2_score\",r2_score(y_train_f,y_hat_5))\n",
    "print(\"Train data MSE:\",mean_squared_error(y_train_f,y_hat_5))\n",
    "print(\"Train data MAE:\",mean_absolute_error(y_train_f,y_hat_5))\n",
    "print(\"Train data RMSE:\",np.sqrt(mean_squared_error(y_train_f,y_hat_5)))"
   ]
  },
  {
   "cell_type": "code",
   "execution_count": 142,
   "id": "8af6f8a7",
   "metadata": {},
   "outputs": [
    {
     "name": "stdout",
     "output_type": "stream",
     "text": [
      "Test data score 0.5768387171115643\n",
      "Test data r2_score 0.5768387171115643\n",
      "Test data MSE: 21.5811282342863\n",
      "Test data MAE: 3.6475648004434587\n",
      "Test data RMSE: 4.645549293063878\n"
     ]
    }
   ],
   "source": [
    "y_hat_6=model_3.predict(x_test_f)\n",
    "\n",
    "print(\"Test data score\",model_3.score(x_test_f, y_test_f))\n",
    "print(\"Test data r2_score\",r2_score(y_test_f,y_hat_6)) # (coefficient of determination) regression score function.(1.0)\n",
    "print(\"Test data MSE:\",mean_squared_error(y_test_f,y_hat_6))\n",
    "print(\"Test data MAE:\",mean_absolute_error(y_test_f,y_hat_6))\n",
    "print(\"Test data RMSE:\", np.sqrt(mean_squared_error(y_test_f,y_hat_6)))"
   ]
  },
  {
   "cell_type": "code",
   "execution_count": 145,
   "id": "688689e8",
   "metadata": {},
   "outputs": [
    {
     "data": {
      "text/plain": [
       "range(0, 10, 2)"
      ]
     },
     "execution_count": 145,
     "metadata": {},
     "output_type": "execute_result"
    }
   ],
   "source": [
    "range(0,10,2)"
   ]
  },
  {
   "cell_type": "code",
   "execution_count": null,
   "id": "36d0840c",
   "metadata": {},
   "outputs": [],
   "source": [
    "for i in range(10):\n",
    "    print()"
   ]
  },
  {
   "cell_type": "code",
   "execution_count": null,
   "id": "50e993ad",
   "metadata": {},
   "outputs": [],
   "source": [
    "R_model = RandomForestClassifier()\n",
    "R_model.fit(X, y)\n",
    "\n",
    "\n",
    "def fea_importance(m,df):\n",
    "    importance = m.feature_importances_*100\n",
    "    final_df=pd.DataFrame({\"Feature\": pd.DataFrame(df).columns,\"Importance\": importance})\n",
    "    Final_df=final_df.sort_values(\"Importance\")\n",
    "    return Final_df\n",
    "    \n",
    "# Create a function which will help to find the features\n",
    "\n",
    "fea_importance(R_model,X)\n",
    "\n",
    "#importance.plot(kind='bar')\n",
    "fea_importance(R_model,X).plot(kind='barh')\n",
    "\n",
    "plt.title(\"Bar Plot of Ranked Feature Importance\")\n",
    "plt.show()"
   ]
  }
 ],
 "metadata": {
  "kernelspec": {
   "display_name": "Python 3 (ipykernel)",
   "language": "python",
   "name": "python3"
  },
  "language_info": {
   "codemirror_mode": {
    "name": "ipython",
    "version": 3
   },
   "file_extension": ".py",
   "mimetype": "text/x-python",
   "name": "python",
   "nbconvert_exporter": "python",
   "pygments_lexer": "ipython3",
   "version": "3.9.7"
  }
 },
 "nbformat": 4,
 "nbformat_minor": 5
}
