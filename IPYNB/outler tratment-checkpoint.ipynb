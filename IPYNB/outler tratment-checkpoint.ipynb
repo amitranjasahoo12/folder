{
 "cells": [
  {
   "cell_type": "raw",
   "id": "75eb9ba9",
   "metadata": {},
   "source": [
    "IQR Method\n",
    "In this method by using Inter Quartile Range(IQR), we detect outliers. IQR tells us the variation in the data set. Any value, which is beyond the range of -1.5 x IQR to 1.5 x IQR treated as outliers.\n",
    "Q1 represents the 1st quartile/25th percentile of the data.\n",
    "Q2 represents the 2nd quartile/median/50th percentile of the data.\n",
    "Q3 represents the 3rd quartile/75th percentile of the data.\n",
    "(Q1–1.5IQR) represent the smallest value in the data set and (Q3+1.5IQR) represent the largest value in the data set\n",
    "k) Visualizing the data\n",
    "Data visualization is useful for data cleaning, exploring data, detecting outliers and unusual groups, identifying trends and clusters etc. Here the list of data visualization plots to spot the outliers.\n",
    "a) Box and whisker plot (box plot)\n",
    "b) Scatter plot\n",
    "c) Histogram\n",
    "d) Distribution Plot\n",
    "e) QQ plot"
   ]
  },
  {
   "cell_type": "code",
   "execution_count": 2,
   "id": "8351d14a",
   "metadata": {},
   "outputs": [],
   "source": [
    "import pandas as pd\n",
    "import matplotlib.pyplot as plt\n",
    "import seaborn as sns\n",
    "import numpy as np\n",
    "%matplotlib inline"
   ]
  },
  {
   "cell_type": "code",
   "execution_count": 3,
   "id": "50035bfa",
   "metadata": {},
   "outputs": [],
   "source": [
    "Url = \"https://raw.githubusercontent.com/BigDataGal/Python-for-Data-Science/master/titanic-train.csv\""
   ]
  },
  {
   "cell_type": "code",
   "execution_count": 4,
   "id": "c0e67644",
   "metadata": {},
   "outputs": [],
   "source": [
    "titanic = pd.read_csv(Url)"
   ]
  },
  {
   "cell_type": "code",
   "execution_count": 5,
   "id": "b5195bb2",
   "metadata": {},
   "outputs": [
    {
     "data": {
      "text/html": [
       "<div>\n",
       "<style scoped>\n",
       "    .dataframe tbody tr th:only-of-type {\n",
       "        vertical-align: middle;\n",
       "    }\n",
       "\n",
       "    .dataframe tbody tr th {\n",
       "        vertical-align: top;\n",
       "    }\n",
       "\n",
       "    .dataframe thead th {\n",
       "        text-align: right;\n",
       "    }\n",
       "</style>\n",
       "<table border=\"1\" class=\"dataframe\">\n",
       "  <thead>\n",
       "    <tr style=\"text-align: right;\">\n",
       "      <th></th>\n",
       "      <th>PassengerId</th>\n",
       "      <th>Survived</th>\n",
       "      <th>Pclass</th>\n",
       "      <th>Name</th>\n",
       "      <th>Sex</th>\n",
       "      <th>Age</th>\n",
       "      <th>SibSp</th>\n",
       "      <th>Parch</th>\n",
       "      <th>Ticket</th>\n",
       "      <th>Fare</th>\n",
       "      <th>Cabin</th>\n",
       "      <th>Embarked</th>\n",
       "    </tr>\n",
       "  </thead>\n",
       "  <tbody>\n",
       "    <tr>\n",
       "      <th>0</th>\n",
       "      <td>1</td>\n",
       "      <td>0</td>\n",
       "      <td>3</td>\n",
       "      <td>Braund, Mr. Owen Harris</td>\n",
       "      <td>male</td>\n",
       "      <td>22.0</td>\n",
       "      <td>1</td>\n",
       "      <td>0</td>\n",
       "      <td>A/5 21171</td>\n",
       "      <td>7.2500</td>\n",
       "      <td>NaN</td>\n",
       "      <td>S</td>\n",
       "    </tr>\n",
       "    <tr>\n",
       "      <th>1</th>\n",
       "      <td>2</td>\n",
       "      <td>1</td>\n",
       "      <td>1</td>\n",
       "      <td>Cumings, Mrs. John Bradley (Florence Briggs Th...</td>\n",
       "      <td>female</td>\n",
       "      <td>38.0</td>\n",
       "      <td>1</td>\n",
       "      <td>0</td>\n",
       "      <td>PC 17599</td>\n",
       "      <td>71.2833</td>\n",
       "      <td>C85</td>\n",
       "      <td>C</td>\n",
       "    </tr>\n",
       "    <tr>\n",
       "      <th>2</th>\n",
       "      <td>3</td>\n",
       "      <td>1</td>\n",
       "      <td>3</td>\n",
       "      <td>Heikkinen, Miss. Laina</td>\n",
       "      <td>female</td>\n",
       "      <td>26.0</td>\n",
       "      <td>0</td>\n",
       "      <td>0</td>\n",
       "      <td>STON/O2. 3101282</td>\n",
       "      <td>7.9250</td>\n",
       "      <td>NaN</td>\n",
       "      <td>S</td>\n",
       "    </tr>\n",
       "    <tr>\n",
       "      <th>3</th>\n",
       "      <td>4</td>\n",
       "      <td>1</td>\n",
       "      <td>1</td>\n",
       "      <td>Futrelle, Mrs. Jacques Heath (Lily May Peel)</td>\n",
       "      <td>female</td>\n",
       "      <td>35.0</td>\n",
       "      <td>1</td>\n",
       "      <td>0</td>\n",
       "      <td>113803</td>\n",
       "      <td>53.1000</td>\n",
       "      <td>C123</td>\n",
       "      <td>S</td>\n",
       "    </tr>\n",
       "    <tr>\n",
       "      <th>4</th>\n",
       "      <td>5</td>\n",
       "      <td>0</td>\n",
       "      <td>3</td>\n",
       "      <td>Allen, Mr. William Henry</td>\n",
       "      <td>male</td>\n",
       "      <td>35.0</td>\n",
       "      <td>0</td>\n",
       "      <td>0</td>\n",
       "      <td>373450</td>\n",
       "      <td>8.0500</td>\n",
       "      <td>NaN</td>\n",
       "      <td>S</td>\n",
       "    </tr>\n",
       "    <tr>\n",
       "      <th>...</th>\n",
       "      <td>...</td>\n",
       "      <td>...</td>\n",
       "      <td>...</td>\n",
       "      <td>...</td>\n",
       "      <td>...</td>\n",
       "      <td>...</td>\n",
       "      <td>...</td>\n",
       "      <td>...</td>\n",
       "      <td>...</td>\n",
       "      <td>...</td>\n",
       "      <td>...</td>\n",
       "      <td>...</td>\n",
       "    </tr>\n",
       "    <tr>\n",
       "      <th>886</th>\n",
       "      <td>887</td>\n",
       "      <td>0</td>\n",
       "      <td>2</td>\n",
       "      <td>Montvila, Rev. Juozas</td>\n",
       "      <td>male</td>\n",
       "      <td>27.0</td>\n",
       "      <td>0</td>\n",
       "      <td>0</td>\n",
       "      <td>211536</td>\n",
       "      <td>13.0000</td>\n",
       "      <td>NaN</td>\n",
       "      <td>S</td>\n",
       "    </tr>\n",
       "    <tr>\n",
       "      <th>887</th>\n",
       "      <td>888</td>\n",
       "      <td>1</td>\n",
       "      <td>1</td>\n",
       "      <td>Graham, Miss. Margaret Edith</td>\n",
       "      <td>female</td>\n",
       "      <td>19.0</td>\n",
       "      <td>0</td>\n",
       "      <td>0</td>\n",
       "      <td>112053</td>\n",
       "      <td>30.0000</td>\n",
       "      <td>B42</td>\n",
       "      <td>S</td>\n",
       "    </tr>\n",
       "    <tr>\n",
       "      <th>888</th>\n",
       "      <td>889</td>\n",
       "      <td>0</td>\n",
       "      <td>3</td>\n",
       "      <td>Johnston, Miss. Catherine Helen \"Carrie\"</td>\n",
       "      <td>female</td>\n",
       "      <td>NaN</td>\n",
       "      <td>1</td>\n",
       "      <td>2</td>\n",
       "      <td>W./C. 6607</td>\n",
       "      <td>23.4500</td>\n",
       "      <td>NaN</td>\n",
       "      <td>S</td>\n",
       "    </tr>\n",
       "    <tr>\n",
       "      <th>889</th>\n",
       "      <td>890</td>\n",
       "      <td>1</td>\n",
       "      <td>1</td>\n",
       "      <td>Behr, Mr. Karl Howell</td>\n",
       "      <td>male</td>\n",
       "      <td>26.0</td>\n",
       "      <td>0</td>\n",
       "      <td>0</td>\n",
       "      <td>111369</td>\n",
       "      <td>30.0000</td>\n",
       "      <td>C148</td>\n",
       "      <td>C</td>\n",
       "    </tr>\n",
       "    <tr>\n",
       "      <th>890</th>\n",
       "      <td>891</td>\n",
       "      <td>0</td>\n",
       "      <td>3</td>\n",
       "      <td>Dooley, Mr. Patrick</td>\n",
       "      <td>male</td>\n",
       "      <td>32.0</td>\n",
       "      <td>0</td>\n",
       "      <td>0</td>\n",
       "      <td>370376</td>\n",
       "      <td>7.7500</td>\n",
       "      <td>NaN</td>\n",
       "      <td>Q</td>\n",
       "    </tr>\n",
       "  </tbody>\n",
       "</table>\n",
       "<p>891 rows × 12 columns</p>\n",
       "</div>"
      ],
      "text/plain": [
       "     PassengerId  Survived  Pclass  \\\n",
       "0              1         0       3   \n",
       "1              2         1       1   \n",
       "2              3         1       3   \n",
       "3              4         1       1   \n",
       "4              5         0       3   \n",
       "..           ...       ...     ...   \n",
       "886          887         0       2   \n",
       "887          888         1       1   \n",
       "888          889         0       3   \n",
       "889          890         1       1   \n",
       "890          891         0       3   \n",
       "\n",
       "                                                  Name     Sex   Age  SibSp  \\\n",
       "0                              Braund, Mr. Owen Harris    male  22.0      1   \n",
       "1    Cumings, Mrs. John Bradley (Florence Briggs Th...  female  38.0      1   \n",
       "2                               Heikkinen, Miss. Laina  female  26.0      0   \n",
       "3         Futrelle, Mrs. Jacques Heath (Lily May Peel)  female  35.0      1   \n",
       "4                             Allen, Mr. William Henry    male  35.0      0   \n",
       "..                                                 ...     ...   ...    ...   \n",
       "886                              Montvila, Rev. Juozas    male  27.0      0   \n",
       "887                       Graham, Miss. Margaret Edith  female  19.0      0   \n",
       "888           Johnston, Miss. Catherine Helen \"Carrie\"  female   NaN      1   \n",
       "889                              Behr, Mr. Karl Howell    male  26.0      0   \n",
       "890                                Dooley, Mr. Patrick    male  32.0      0   \n",
       "\n",
       "     Parch            Ticket     Fare Cabin Embarked  \n",
       "0        0         A/5 21171   7.2500   NaN        S  \n",
       "1        0          PC 17599  71.2833   C85        C  \n",
       "2        0  STON/O2. 3101282   7.9250   NaN        S  \n",
       "3        0            113803  53.1000  C123        S  \n",
       "4        0            373450   8.0500   NaN        S  \n",
       "..     ...               ...      ...   ...      ...  \n",
       "886      0            211536  13.0000   NaN        S  \n",
       "887      0            112053  30.0000   B42        S  \n",
       "888      2        W./C. 6607  23.4500   NaN        S  \n",
       "889      0            111369  30.0000  C148        C  \n",
       "890      0            370376   7.7500   NaN        Q  \n",
       "\n",
       "[891 rows x 12 columns]"
      ]
     },
     "execution_count": 5,
     "metadata": {},
     "output_type": "execute_result"
    }
   ],
   "source": [
    "titanic"
   ]
  },
  {
   "cell_type": "code",
   "execution_count": 6,
   "id": "f6932233",
   "metadata": {},
   "outputs": [
    {
     "data": {
      "text/plain": [
       "PassengerId      0\n",
       "Survived         0\n",
       "Pclass           0\n",
       "Name             0\n",
       "Sex              0\n",
       "Age            177\n",
       "SibSp            0\n",
       "Parch            0\n",
       "Ticket           0\n",
       "Fare             0\n",
       "Cabin          687\n",
       "Embarked         2\n",
       "dtype: int64"
      ]
     },
     "execution_count": 6,
     "metadata": {},
     "output_type": "execute_result"
    }
   ],
   "source": [
    "titanic.isnull().sum()"
   ]
  },
  {
   "cell_type": "code",
   "execution_count": 7,
   "id": "6b6fee7b",
   "metadata": {},
   "outputs": [
    {
     "data": {
      "text/plain": [
       "<AxesSubplot:>"
      ]
     },
     "execution_count": 7,
     "metadata": {},
     "output_type": "execute_result"
    },
    {
     "data": {
      "image/png": "[encoded data removed]",
      "text/plain": [
       "<Figure size 432x288 with 2 Axes>"
      ]
     },
     "metadata": {
      "needs_background": "light"
     },
     "output_type": "display_data"
    }
   ],
   "source": [
    "import seaborn as sns\n",
    "sns.heatmap(titanic.isnull(),yticklabels=False)"
   ]
  },
  {
   "cell_type": "code",
   "execution_count": 8,
   "id": "1b4d3ffa",
   "metadata": {},
   "outputs": [
    {
     "data": {
      "text/plain": [
       "28.0"
      ]
     },
     "execution_count": 8,
     "metadata": {},
     "output_type": "execute_result"
    }
   ],
   "source": [
    "median=titanic.Age.median()\n",
    "median"
   ]
  },
  {
   "cell_type": "code",
   "execution_count": 9,
   "id": "87f5579d",
   "metadata": {},
   "outputs": [
    {
     "data": {
      "text/plain": [
       "29.69911764705882"
      ]
     },
     "execution_count": 9,
     "metadata": {},
     "output_type": "execute_result"
    }
   ],
   "source": [
    "mean=titanic.Age.mean()\n",
    "mean"
   ]
  },
  {
   "cell_type": "code",
   "execution_count": 10,
   "id": "5ced6b36",
   "metadata": {},
   "outputs": [],
   "source": [
    "def impute_nan(df,variable,mean):\n",
    "    df[variable]=df[variable].fillna(mean)"
   ]
  },
  {
   "cell_type": "code",
   "execution_count": 11,
   "id": "dcdaccc7",
   "metadata": {},
   "outputs": [],
   "source": [
    "impute_nan(titanic,\"Age\",mean)"
   ]
  },
  {
   "cell_type": "code",
   "execution_count": 12,
   "id": "c1765a43",
   "metadata": {},
   "outputs": [
    {
     "data": {
      "text/plain": [
       "<AxesSubplot:>"
      ]
     },
     "execution_count": 12,
     "metadata": {},
     "output_type": "execute_result"
    },
    {
     "data": {
      "image/png": "[encoded data removed]",
      "text/plain": [
       "<Figure size 432x288 with 2 Axes>"
      ]
     },
     "metadata": {
      "needs_background": "light"
     },
     "output_type": "display_data"
    }
   ],
   "source": [
    "sns.heatmap(titanic.isnull(),yticklabels=False)"
   ]
  },
  {
   "cell_type": "code",
   "execution_count": 13,
   "id": "23c5004e",
   "metadata": {},
   "outputs": [],
   "source": [
    "def plotvarible(df, variable):\n",
    "    plt.figure(figsize=(16,4))\n",
    "    \n",
    "    #Histogram\n",
    "    \n",
    "    plt.subplot(1,2,1)\n",
    "    plt.hist(df[variable],alpha=0.5)\n",
    "    \n",
    "    #boxplot\n",
    "    \n",
    "    plt.subplot(1,2,2)\n",
    "    plt.boxplot(df[variable])\n",
    "    plt.show()"
   ]
  },
  {
   "cell_type": "code",
   "execution_count": 14,
   "id": "15818b15",
   "metadata": {},
   "outputs": [
    {
     "data": {
      "image/png": "[encoded data removed]",
      "text/plain": [
       "<Figure size 1152x288 with 2 Axes>"
      ]
     },
     "metadata": {
      "needs_background": "light"
     },
     "output_type": "display_data"
    }
   ],
   "source": [
    "plotvarible(titanic, \"Fare\")"
   ]
  },
  {
   "cell_type": "code",
   "execution_count": 15,
   "id": "97537c61",
   "metadata": {},
   "outputs": [],
   "source": [
    "def detectoutliers(column):\n",
    "    \n",
    "    numbers = sorted(column)\n",
    "    \n",
    "    #outliers=[]\n",
    "    \n",
    "    Q1 = np.quantile(column, .25) #quantile() method calculates the quantile of the values in a given axis\n",
    "    Q3 = np.quantile(column, .75) #Compute the q-th percentile of the data along the specified axis.\n",
    "    Q2 = np.quantile(column, .50) \n",
    "    \n",
    "    \n",
    "    #print('Q1,Q3 : ',Q1,Q3)\n",
    "    \n",
    "    \n",
    "    IQR = Q3-Q1\n",
    "    lower_bound_val = Q1 -(1.5 * IQR) \n",
    "    upper_bound_val = Q3 +(1.5 * IQR) \n",
    "    \n",
    "   \n",
    "    \n",
    "    no_outliers = column[(Q1 - 1.5*IQR < column) &  (column < Q3 + 1.5*IQR)]\n",
    "    \n",
    "    outliers = column [(Q1 - 1.5*IQR >= column) |  (column >= Q3 + 1.5*IQR)] # or\n",
    "    \n",
    "    lower_fence_otlier=column [(Q1 - 1.5*IQR >= column)]\n",
    "    \n",
    "    upper_fence_otlier=column [(column >= Q3 + 1.5*IQR)]\n",
    "    \n",
    "    \n",
    "    \n",
    "    \n",
    "    print(\"Quantile-1 (Q1): \",Q1, \"\\n\")\n",
    "    print(\"Quantile-2-median (Q2): \",Q2, \"\\n\")\n",
    "    print(\"Quantile-3 (Q3): \",Q3, \"\\n\")\n",
    "    print(\"Inter Quantile Range (IQR): \",IQR, \"\\n\")\n",
    "    \n",
    "    print('lowerBound : ',lower_bound_val,\"\\n\")\n",
    "    print('upperBound : ',upper_bound_val,\"\\n\")\n",
    "    \n",
    "    print(\"Sorted Column values: \",numbers,\"\\n\")\n",
    "    \n",
    "    print('Detection Success',\"\\n\")\n",
    "    \n",
    "    print('No_outliers : ',sorted(no_outliers),\"\\n\")\n",
    "    \n",
    "    #print('Outliers : ',sorted(outliers),\"\\n\")\n",
    "    \n",
    "    print('lower_fence_otlier : ',sorted(lower_fence_otlier),\"\\n\")\n",
    "    \n",
    "    print('upper_fence_otlier : ',sorted(upper_fence_otlier),\"\\n\")\n",
    "    \n",
    "    \n",
    "    print('Length lower_fence_otlier : ',len(lower_fence_otlier),\"\\n\")\n",
    "    \n",
    "    print('Length upper_fence_otlier : ',len(upper_fence_otlier),\"\\n\")\n",
    "    \n",
    "    #print('Outliers : ',outliers,\"\\n\")\n",
    "    \n",
    "    print('Length Outliers : ',len(outliers),\"\\n\")\n",
    "    \n",
    "    \n",
    "    return lower_bound_val,upper_bound_val #,outliers\n",
    "        \n"
   ]
  },
  {
   "cell_type": "code",
   "execution_count": 16,
   "id": "51018284",
   "metadata": {},
   "outputs": [
    {
     "name": "stdout",
     "output_type": "stream",
     "text": [
      "Quantile-1 (Q1):  7.9104 \n",
      "\n",
      "Quantile-2-median (Q2):  14.4542 \n",
      "\n",
      "Quantile-3 (Q3):  31.0 \n",
      "\n",
      "Inter Quantile Range (IQR):  23.0896 \n",
      "\n",
      "lowerBound :  -26.724 \n",
      "\n",
      "upperBound :  65.6344 \n",
      "\n",
      "Sorted Column values:  [0.0, 0.0, 0.0, 0.0, 0.0, 0.0, 0.0, 0.0, 0.0, 0.0, 0.0, 0.0, 0.0, 0.0, 0.0, 4.0125, 5.0, 6.2375, 6.4375, 6.45, 6.4958, 6.4958, 6.75, 6.75, 6.8583, 6.95, 6.975, 6.975, 7.0458, 7.05, 7.05, 7.05, 7.05, 7.05, 7.05, 7.05, 7.0542, 7.0542, 7.125, 7.125, 7.125, 7.125, 7.1417, 7.225, 7.225, 7.225, 7.225, 7.225, 7.225, 7.225, 7.225, 7.225, 7.225, 7.225, 7.225, 7.2292, 7.2292, 7.2292, 7.2292, 7.2292, 7.2292, 7.2292, 7.2292, 7.2292, 7.2292, 7.2292, 7.2292, 7.2292, 7.2292, 7.2292, 7.25, 7.25, 7.25, 7.25, 7.25, 7.25, 7.25, 7.25, 7.25, 7.25, 7.25, 7.25, 7.25, 7.3125, 7.4958, 7.4958, 7.4958, 7.5208, 7.55, 7.55, 7.55, 7.55, 7.6292, 7.65, 7.65, 7.65, 7.65, 7.725, 7.7292, 7.7333, 7.7333, 7.7333, 7.7333, 7.7375, 7.7375, 7.7417, 7.75, 7.75, 7.75, 7.75, 7.75, 7.75, 7.75, 7.75, 7.75, 7.75, 7.75, 7.75, 7.75, 7.75, 7.75, 7.75, 7.75, 7.75, 7.75, 7.75, 7.75, 7.75, 7.75, 7.75, 7.75, 7.75, 7.75, 7.75, 7.75, 7.75, 7.75, 7.75, 7.75, 7.75, 7.775, 7.775, 7.775, 7.775, 7.775, 7.775, 7.775, 7.775, 7.775, 7.775, 7.775, 7.775, 7.775, 7.775, 7.775, 7.775, 7.7875, 7.7958, 7.7958, 7.7958, 7.7958, 7.7958, 7.7958, 7.8, 7.8292, 7.8292, 7.8542, 7.8542, 7.8542, 7.8542, 7.8542, 7.8542, 7.8542, 7.8542, 7.8542, 7.8542, 7.8542, 7.8542, 7.8542, 7.875, 7.8792, 7.8792, 7.8792, 7.8792, 7.8875, 7.8958, 7.8958, 7.8958, 7.8958, 7.8958, 7.8958, 7.8958, 7.8958, 7.8958, 7.8958, 7.8958, 7.8958, 7.8958, 7.8958, 7.8958, 7.8958, 7.8958, 7.8958, 7.8958, 7.8958, 7.8958, 7.8958, 7.8958, 7.8958, 7.8958, 7.8958, 7.8958, 7.8958, 7.8958, 7.8958, 7.8958, 7.8958, 7.8958, 7.8958, 7.8958, 7.8958, 7.8958, 7.8958, 7.925, 7.925, 7.925, 7.925, 7.925, 7.925, 7.925, 7.925, 7.925, 7.925, 7.925, 7.925, 7.925, 7.925, 7.925, 7.925, 7.925, 7.925, 8.0292, 8.05, 8.05, 8.05, 8.05, 8.05, 8.05, 8.05, 8.05, 8.05, 8.05, 8.05, 8.05, 8.05, 8.05, 8.05, 8.05, 8.05, 8.05, 8.05, 8.05, 8.05, 8.05, 8.05, 8.05, 8.05, 8.05, 8.05, 8.05, 8.05, 8.05, 8.05, 8.05, 8.05, 8.05, 8.05, 8.05, 8.05, 8.05, 8.05, 8.05, 8.05, 8.05, 8.05, 8.1125, 8.1375, 8.1583, 8.3, 8.3625, 8.4042, 8.4333, 8.4583, 8.5167, 8.6542, 8.6625, 8.6625, 8.6625, 8.6625, 8.6625, 8.6625, 8.6625, 8.6625, 8.6625, 8.6625, 8.6625, 8.6625, 8.6625, 8.6833, 8.7125, 8.85, 9.0, 9.0, 9.2167, 9.225, 9.225, 9.35, 9.35, 9.475, 9.4833, 9.5, 9.5, 9.5, 9.5, 9.5, 9.5, 9.5, 9.5, 9.5, 9.5875, 9.5875, 9.825, 9.825, 9.8375, 9.8417, 9.8458, 10.1708, 10.4625, 10.4625, 10.5, 10.5, 10.5, 10.5, 10.5, 10.5, 10.5, 10.5, 10.5, 10.5, 10.5, 10.5, 10.5, 10.5, 10.5, 10.5, 10.5, 10.5, 10.5, 10.5, 10.5, 10.5, 10.5, 10.5, 10.5167, 11.1333, 11.1333, 11.1333, 11.2417, 11.2417, 11.5, 11.5, 11.5, 11.5, 12.0, 12.275, 12.2875, 12.35, 12.35, 12.35, 12.475, 12.475, 12.475, 12.475, 12.525, 12.65, 12.875, 13.0, 13.0, 13.0, 13.0, 13.0, 13.0, 13.0, 13.0, 13.0, 13.0, 13.0, 13.0, 13.0, 13.0, 13.0, 13.0, 13.0, 13.0, 13.0, 13.0, 13.0, 13.0, 13.0, 13.0, 13.0, 13.0, 13.0, 13.0, 13.0, 13.0, 13.0, 13.0, 13.0, 13.0, 13.0, 13.0, 13.0, 13.0, 13.0, 13.0, 13.0, 13.0, 13.4167, 13.5, 13.5, 13.5, 13.5, 13.7917, 13.8583, 13.8625, 14.0, 14.1083, 14.4, 14.4, 14.4542, 14.4542, 14.4542, 14.4542, 14.4542, 14.4542, 14.4542, 14.4583, 14.4583, 14.4583, 14.5, 14.5, 14.5, 14.5, 14.5, 14.5, 14.5, 15.0, 15.0458, 15.05, 15.1, 15.2458, 15.2458, 15.2458, 15.2458, 15.2458, 15.5, 15.5, 15.5, 15.5, 15.5, 15.5, 15.5, 15.5, 15.55, 15.7417, 15.7417, 15.75, 15.85, 15.85, 15.85, 15.85, 15.9, 15.9, 16.0, 16.1, 16.1, 16.1, 16.1, 16.1, 16.1, 16.1, 16.1, 16.1, 16.7, 16.7, 17.4, 17.8, 17.8, 18.0, 18.0, 18.0, 18.75, 18.75, 18.75, 18.7875, 18.7875, 19.2583, 19.2583, 19.2583, 19.2583, 19.5, 19.5, 19.9667, 19.9667, 20.2125, 20.2125, 20.25, 20.25, 20.525, 20.525, 20.525, 20.575, 20.575, 21.0, 21.0, 21.0, 21.0, 21.0, 21.0, 21.075, 21.075, 21.075, 21.075, 21.6792, 22.025, 22.3583, 22.3583, 22.525, 23.0, 23.0, 23.0, 23.0, 23.25, 23.25, 23.45, 23.45, 24.0, 24.0, 24.15, 24.15, 24.15, 24.15, 24.15, 24.15, 24.15, 24.15, 25.4667, 25.4667, 25.4667, 25.4667, 25.5875, 25.925, 25.9292, 25.9292, 26.0, 26.0, 26.0, 26.0, 26.0, 26.0, 26.0, 26.0, 26.0, 26.0, 26.0, 26.0, 26.0, 26.0, 26.0, 26.0, 26.0, 26.0, 26.0, 26.0, 26.0, 26.0, 26.0, 26.0, 26.0, 26.0, 26.0, 26.0, 26.0, 26.0, 26.0, 26.25, 26.25, 26.25, 26.25, 26.25, 26.25, 26.2833, 26.2875, 26.2875, 26.2875, 26.3875, 26.55, 26.55, 26.55, 26.55, 26.55, 26.55, 26.55, 26.55, 26.55, 26.55, 26.55, 26.55, 26.55, 26.55, 26.55, 27.0, 27.0, 27.7208, 27.7208, 27.7208, 27.7208, 27.7208, 27.75, 27.75, 27.75, 27.75, 27.9, 27.9, 27.9, 27.9, 27.9, 27.9, 28.5, 28.7125, 29.0, 29.0, 29.125, 29.125, 29.125, 29.125, 29.125, 29.7, 29.7, 29.7, 30.0, 30.0, 30.0, 30.0, 30.0, 30.0, 30.0708, 30.0708, 30.5, 30.5, 30.5, 30.5, 30.5, 30.6958, 30.6958, 31.0, 31.0, 31.0, 31.275, 31.275, 31.275, 31.275, 31.275, 31.275, 31.275, 31.3875, 31.3875, 31.3875, 31.3875, 32.3208, 32.5, 33.0, 33.0, 33.0, 33.5, 34.0208, 34.375, 34.375, 34.375, 34.375, 34.6542, 35.0, 35.5, 35.5, 35.5, 35.5, 36.75, 36.75, 37.0042, 37.0042, 38.5, 39.0, 39.0, 39.0, 39.0, 39.4, 39.6, 39.6, 39.6875, 39.6875, 39.6875, 39.6875, 39.6875, 39.6875, 40.125, 41.5792, 41.5792, 41.5792, 42.4, 46.9, 46.9, 46.9, 46.9, 46.9, 46.9, 47.1, 49.5, 49.5042, 49.5042, 50.0, 50.4958, 51.4792, 51.8625, 51.8625, 52.0, 52.0, 52.0, 52.0, 52.0, 52.0, 52.0, 52.5542, 52.5542, 52.5542, 53.1, 53.1, 53.1, 53.1, 53.1, 55.0, 55.0, 55.4417, 55.9, 55.9, 56.4958, 56.4958, 56.4958, 56.4958, 56.4958, 56.4958, 56.4958, 56.9292, 56.9292, 57.0, 57.0, 57.9792, 57.9792, 59.4, 61.175, 61.3792, 61.9792, 63.3583, 65.0, 65.0, 66.6, 66.6, 69.3, 69.3, 69.55, 69.55, 69.55, 69.55, 69.55, 69.55, 69.55, 71.0, 71.0, 71.2833, 73.5, 73.5, 73.5, 73.5, 73.5, 75.25, 76.2917, 76.7292, 76.7292, 76.7292, 77.2875, 77.2875, 77.9583, 77.9583, 77.9583, 78.2667, 78.2667, 78.85, 78.85, 79.2, 79.2, 79.2, 79.2, 79.65, 79.65, 79.65, 80.0, 80.0, 81.8583, 82.1708, 82.1708, 83.1583, 83.1583, 83.1583, 83.475, 83.475, 86.5, 86.5, 86.5, 89.1042, 89.1042, 90.0, 90.0, 90.0, 90.0, 91.0792, 91.0792, 93.5, 93.5, 106.425, 106.425, 108.9, 108.9, 110.8833, 110.8833, 110.8833, 110.8833, 113.275, 113.275, 113.275, 120.0, 120.0, 120.0, 120.0, 133.65, 133.65, 134.5, 134.5, 135.6333, 135.6333, 135.6333, 146.5208, 146.5208, 151.55, 151.55, 151.55, 151.55, 153.4625, 153.4625, 153.4625, 164.8667, 164.8667, 211.3375, 211.3375, 211.3375, 211.5, 221.7792, 227.525, 227.525, 227.525, 227.525, 247.5208, 247.5208, 262.375, 262.375, 263.0, 263.0, 263.0, 263.0, 512.3292, 512.3292, 512.3292] \n",
      "\n",
      "Detection Success \n",
      "\n",
      "No_outliers :  [0.0, 0.0, 0.0, 0.0, 0.0, 0.0, 0.0, 0.0, 0.0, 0.0, 0.0, 0.0, 0.0, 0.0, 0.0, 4.0125, 5.0, 6.2375, 6.4375, 6.45, 6.4958, 6.4958, 6.75, 6.75, 6.8583, 6.95, 6.975, 6.975, 7.0458, 7.05, 7.05, 7.05, 7.05, 7.05, 7.05, 7.05, 7.0542, 7.0542, 7.125, 7.125, 7.125, 7.125, 7.1417, 7.225, 7.225, 7.225, 7.225, 7.225, 7.225, 7.225, 7.225, 7.225, 7.225, 7.225, 7.225, 7.2292, 7.2292, 7.2292, 7.2292, 7.2292, 7.2292, 7.2292, 7.2292, 7.2292, 7.2292, 7.2292, 7.2292, 7.2292, 7.2292, 7.2292, 7.25, 7.25, 7.25, 7.25, 7.25, 7.25, 7.25, 7.25, 7.25, 7.25, 7.25, 7.25, 7.25, 7.3125, 7.4958, 7.4958, 7.4958, 7.5208, 7.55, 7.55, 7.55, 7.55, 7.6292, 7.65, 7.65, 7.65, 7.65, 7.725, 7.7292, 7.7333, 7.7333, 7.7333, 7.7333, 7.7375, 7.7375, 7.7417, 7.75, 7.75, 7.75, 7.75, 7.75, 7.75, 7.75, 7.75, 7.75, 7.75, 7.75, 7.75, 7.75, 7.75, 7.75, 7.75, 7.75, 7.75, 7.75, 7.75, 7.75, 7.75, 7.75, 7.75, 7.75, 7.75, 7.75, 7.75, 7.75, 7.75, 7.75, 7.75, 7.75, 7.75, 7.775, 7.775, 7.775, 7.775, 7.775, 7.775, 7.775, 7.775, 7.775, 7.775, 7.775, 7.775, 7.775, 7.775, 7.775, 7.775, 7.7875, 7.7958, 7.7958, 7.7958, 7.7958, 7.7958, 7.7958, 7.8, 7.8292, 7.8292, 7.8542, 7.8542, 7.8542, 7.8542, 7.8542, 7.8542, 7.8542, 7.8542, 7.8542, 7.8542, 7.8542, 7.8542, 7.8542, 7.875, 7.8792, 7.8792, 7.8792, 7.8792, 7.8875, 7.8958, 7.8958, 7.8958, 7.8958, 7.8958, 7.8958, 7.8958, 7.8958, 7.8958, 7.8958, 7.8958, 7.8958, 7.8958, 7.8958, 7.8958, 7.8958, 7.8958, 7.8958, 7.8958, 7.8958, 7.8958, 7.8958, 7.8958, 7.8958, 7.8958, 7.8958, 7.8958, 7.8958, 7.8958, 7.8958, 7.8958, 7.8958, 7.8958, 7.8958, 7.8958, 7.8958, 7.8958, 7.8958, 7.925, 7.925, 7.925, 7.925, 7.925, 7.925, 7.925, 7.925, 7.925, 7.925, 7.925, 7.925, 7.925, 7.925, 7.925, 7.925, 7.925, 7.925, 8.0292, 8.05, 8.05, 8.05, 8.05, 8.05, 8.05, 8.05, 8.05, 8.05, 8.05, 8.05, 8.05, 8.05, 8.05, 8.05, 8.05, 8.05, 8.05, 8.05, 8.05, 8.05, 8.05, 8.05, 8.05, 8.05, 8.05, 8.05, 8.05, 8.05, 8.05, 8.05, 8.05, 8.05, 8.05, 8.05, 8.05, 8.05, 8.05, 8.05, 8.05, 8.05, 8.05, 8.05, 8.1125, 8.1375, 8.1583, 8.3, 8.3625, 8.4042, 8.4333, 8.4583, 8.5167, 8.6542, 8.6625, 8.6625, 8.6625, 8.6625, 8.6625, 8.6625, 8.6625, 8.6625, 8.6625, 8.6625, 8.6625, 8.6625, 8.6625, 8.6833, 8.7125, 8.85, 9.0, 9.0, 9.2167, 9.225, 9.225, 9.35, 9.35, 9.475, 9.4833, 9.5, 9.5, 9.5, 9.5, 9.5, 9.5, 9.5, 9.5, 9.5, 9.5875, 9.5875, 9.825, 9.825, 9.8375, 9.8417, 9.8458, 10.1708, 10.4625, 10.4625, 10.5, 10.5, 10.5, 10.5, 10.5, 10.5, 10.5, 10.5, 10.5, 10.5, 10.5, 10.5, 10.5, 10.5, 10.5, 10.5, 10.5, 10.5, 10.5, 10.5, 10.5, 10.5, 10.5, 10.5, 10.5167, 11.1333, 11.1333, 11.1333, 11.2417, 11.2417, 11.5, 11.5, 11.5, 11.5, 12.0, 12.275, 12.2875, 12.35, 12.35, 12.35, 12.475, 12.475, 12.475, 12.475, 12.525, 12.65, 12.875, 13.0, 13.0, 13.0, 13.0, 13.0, 13.0, 13.0, 13.0, 13.0, 13.0, 13.0, 13.0, 13.0, 13.0, 13.0, 13.0, 13.0, 13.0, 13.0, 13.0, 13.0, 13.0, 13.0, 13.0, 13.0, 13.0, 13.0, 13.0, 13.0, 13.0, 13.0, 13.0, 13.0, 13.0, 13.0, 13.0, 13.0, 13.0, 13.0, 13.0, 13.0, 13.0, 13.4167, 13.5, 13.5, 13.5, 13.5, 13.7917, 13.8583, 13.8625, 14.0, 14.1083, 14.4, 14.4, 14.4542, 14.4542, 14.4542, 14.4542, 14.4542, 14.4542, 14.4542, 14.4583, 14.4583, 14.4583, 14.5, 14.5, 14.5, 14.5, 14.5, 14.5, 14.5, 15.0, 15.0458, 15.05, 15.1, 15.2458, 15.2458, 15.2458, 15.2458, 15.2458, 15.5, 15.5, 15.5, 15.5, 15.5, 15.5, 15.5, 15.5, 15.55, 15.7417, 15.7417, 15.75, 15.85, 15.85, 15.85, 15.85, 15.9, 15.9, 16.0, 16.1, 16.1, 16.1, 16.1, 16.1, 16.1, 16.1, 16.1, 16.1, 16.7, 16.7, 17.4, 17.8, 17.8, 18.0, 18.0, 18.0, 18.75, 18.75, 18.75, 18.7875, 18.7875, 19.2583, 19.2583, 19.2583, 19.2583, 19.5, 19.5, 19.9667, 19.9667, 20.2125, 20.2125, 20.25, 20.25, 20.525, 20.525, 20.525, 20.575, 20.575, 21.0, 21.0, 21.0, 21.0, 21.0, 21.0, 21.075, 21.075, 21.075, 21.075, 21.6792, 22.025, 22.3583, 22.3583, 22.525, 23.0, 23.0, 23.0, 23.0, 23.25, 23.25, 23.45, 23.45, 24.0, 24.0, 24.15, 24.15, 24.15, 24.15, 24.15, 24.15, 24.15, 24.15, 25.4667, 25.4667, 25.4667, 25.4667, 25.5875, 25.925, 25.9292, 25.9292, 26.0, 26.0, 26.0, 26.0, 26.0, 26.0, 26.0, 26.0, 26.0, 26.0, 26.0, 26.0, 26.0, 26.0, 26.0, 26.0, 26.0, 26.0, 26.0, 26.0, 26.0, 26.0, 26.0, 26.0, 26.0, 26.0, 26.0, 26.0, 26.0, 26.0, 26.0, 26.25, 26.25, 26.25, 26.25, 26.25, 26.25, 26.2833, 26.2875, 26.2875, 26.2875, 26.3875, 26.55, 26.55, 26.55, 26.55, 26.55, 26.55, 26.55, 26.55, 26.55, 26.55, 26.55, 26.55, 26.55, 26.55, 26.55, 27.0, 27.0, 27.7208, 27.7208, 27.7208, 27.7208, 27.7208, 27.75, 27.75, 27.75, 27.75, 27.9, 27.9, 27.9, 27.9, 27.9, 27.9, 28.5, 28.7125, 29.0, 29.0, 29.125, 29.125, 29.125, 29.125, 29.125, 29.7, 29.7, 29.7, 30.0, 30.0, 30.0, 30.0, 30.0, 30.0, 30.0708, 30.0708, 30.5, 30.5, 30.5, 30.5, 30.5, 30.6958, 30.6958, 31.0, 31.0, 31.0, 31.275, 31.275, 31.275, 31.275, 31.275, 31.275, 31.275, 31.3875, 31.3875, 31.3875, 31.3875, 32.3208, 32.5, 33.0, 33.0, 33.0, 33.5, 34.0208, 34.375, 34.375, 34.375, 34.375, 34.6542, 35.0, 35.5, 35.5, 35.5, 35.5, 36.75, 36.75, 37.0042, 37.0042, 38.5, 39.0, 39.0, 39.0, 39.0, 39.4, 39.6, 39.6, 39.6875, 39.6875, 39.6875, 39.6875, 39.6875, 39.6875, 40.125, 41.5792, 41.5792, 41.5792, 42.4, 46.9, 46.9, 46.9, 46.9, 46.9, 46.9, 47.1, 49.5, 49.5042, 49.5042, 50.0, 50.4958, 51.4792, 51.8625, 51.8625, 52.0, 52.0, 52.0, 52.0, 52.0, 52.0, 52.0, 52.5542, 52.5542, 52.5542, 53.1, 53.1, 53.1, 53.1, 53.1, 55.0, 55.0, 55.4417, 55.9, 55.9, 56.4958, 56.4958, 56.4958, 56.4958, 56.4958, 56.4958, 56.4958, 56.9292, 56.9292, 57.0, 57.0, 57.9792, 57.9792, 59.4, 61.175, 61.3792, 61.9792, 63.3583, 65.0, 65.0] \n",
      "\n",
      "lower_fence_otlier :  [] \n",
      "\n",
      "upper_fence_otlier :  [66.6, 66.6, 69.3, 69.3, 69.55, 69.55, 69.55, 69.55, 69.55, 69.55, 69.55, 71.0, 71.0, 71.2833, 73.5, 73.5, 73.5, 73.5, 73.5, 75.25, 76.2917, 76.7292, 76.7292, 76.7292, 77.2875, 77.2875, 77.9583, 77.9583, 77.9583, 78.2667, 78.2667, 78.85, 78.85, 79.2, 79.2, 79.2, 79.2, 79.65, 79.65, 79.65, 80.0, 80.0, 81.8583, 82.1708, 82.1708, 83.1583, 83.1583, 83.1583, 83.475, 83.475, 86.5, 86.5, 86.5, 89.1042, 89.1042, 90.0, 90.0, 90.0, 90.0, 91.0792, 91.0792, 93.5, 93.5, 106.425, 106.425, 108.9, 108.9, 110.8833, 110.8833, 110.8833, 110.8833, 113.275, 113.275, 113.275, 120.0, 120.0, 120.0, 120.0, 133.65, 133.65, 134.5, 134.5, 135.6333, 135.6333, 135.6333, 146.5208, 146.5208, 151.55, 151.55, 151.55, 151.55, 153.4625, 153.4625, 153.4625, 164.8667, 164.8667, 211.3375, 211.3375, 211.3375, 211.5, 221.7792, 227.525, 227.525, 227.525, 227.525, 247.5208, 247.5208, 262.375, 262.375, 263.0, 263.0, 263.0, 263.0, 512.3292, 512.3292, 512.3292] \n",
      "\n",
      "Length lower_fence_otlier :  0 \n",
      "\n",
      "Length upper_fence_otlier :  116 \n",
      "\n",
      "Length Outliers :  116 \n",
      "\n"
     ]
    },
    {
     "data": {
      "text/plain": [
       "(-26.724, 65.6344)"
      ]
     },
     "execution_count": 16,
     "metadata": {},
     "output_type": "execute_result"
    }
   ],
   "source": [
    "detectoutliers(titanic[\"Fare\"])"
   ]
  },
  {
   "cell_type": "code",
   "execution_count": 25,
   "id": "5fa581a1",
   "metadata": {},
   "outputs": [],
   "source": [
    "def Box_plot(df):\n",
    "    plt.figure(figsize=(10,4))\n",
    "    plt.title(\"Box plot\")\n",
    "    sns.boxplot(df)\n",
    "    plt.show()\n",
    "    \n",
    "def hist_plots(df):\n",
    "    plt.figure(figsize=(10,4))\n",
    "    plt.title(\"Histogram plot\")\n",
    "    plt.hist(df)\n",
    "    plt.show()\n",
    "    \n",
    "def scatter_plots(df1,df2):\n",
    "    fig,ax = plt.subplots(figsize=(10,4))\n",
    "    ax.scatter(df1,df2)\n",
    "    ax.set_xlabel(\"123\")\n",
    "    ax.set_ylabel(\"456\")\n",
    "    plt.title(\"scatter plot\")\n",
    "    plt.show()\n",
    "    \n",
    "    \n",
    "def dist_plots(df):\n",
    "    plt.figure(figsize=(10,4))\n",
    "    plt.title(\"distrinution plot\")\n",
    "    sns.distplot(df)\n",
    "    sns.despine()\n",
    "    plt.show()\n",
    "    "
   ]
  },
  {
   "cell_type": "code",
   "execution_count": 22,
   "id": "50aa0f3f",
   "metadata": {},
   "outputs": [
    {
     "name": "stderr",
     "output_type": "stream",
     "text": [
      "C:\\Users\\sony\\anaconda3\\lib\\site-packages\\seaborn\\_decorators.py:36: FutureWarning: Pass the following variable as a keyword arg: x. From version 0.12, the only valid positional argument will be `data`, and passing other arguments without an explicit keyword will result in an error or misinterpretation.\n",
      "  warnings.warn(\n"
     ]
    },
    {
     "data": {
      "image/png": "[encoded data removed]",
      "text/plain": [
       "<Figure size 720x288 with 1 Axes>"
      ]
     },
     "metadata": {
      "needs_background": "light"
     },
     "output_type": "display_data"
    }
   ],
   "source": [
    "Box_plot(titanic[\"Fare\"])"
   ]
  },
  {
   "cell_type": "code",
   "execution_count": 23,
   "id": "0e5e3f3f",
   "metadata": {},
   "outputs": [
    {
     "data": {
      "image/png": "[encoded data removed]",
      "text/plain": [
       "<Figure size 720x288 with 1 Axes>"
      ]
     },
     "metadata": {
      "needs_background": "light"
     },
     "output_type": "display_data"
    }
   ],
   "source": [
    "hist_plots(titanic[\"Fare\"])"
   ]
  },
  {
   "cell_type": "code",
   "execution_count": 26,
   "id": "16b191d7",
   "metadata": {},
   "outputs": [
    {
     "name": "stderr",
     "output_type": "stream",
     "text": [
      "C:\\Users\\sony\\anaconda3\\lib\\site-packages\\seaborn\\distributions.py:2619: FutureWarning: `distplot` is a deprecated function and will be removed in a future version. Please adapt your code to use either `displot` (a figure-level function with similar flexibility) or `histplot` (an axes-level function for histograms).\n",
      "  warnings.warn(msg, FutureWarning)\n"
     ]
    },
    {
     "data": {
      "image/png": "[encoded data removed]",
      "text/plain": [
       "<Figure size 720x288 with 1 Axes>"
      ]
     },
     "metadata": {
      "needs_background": "light"
     },
     "output_type": "display_data"
    }
   ],
   "source": [
    "dist_plots(titanic[\"Fare\"])"
   ]
  },
  {
   "cell_type": "code",
   "execution_count": 27,
   "id": "806ace31",
   "metadata": {},
   "outputs": [
    {
     "name": "stderr",
     "output_type": "stream",
     "text": [
      "C:\\Users\\sony\\anaconda3\\lib\\site-packages\\seaborn\\_decorators.py:36: FutureWarning: Pass the following variable as a keyword arg: x. From version 0.12, the only valid positional argument will be `data`, and passing other arguments without an explicit keyword will result in an error or misinterpretation.\n",
      "  warnings.warn(\n"
     ]
    },
    {
     "data": {
      "image/png": "[encoded data removed]",
      "text/plain": [
       "<Figure size 432x288 with 1 Axes>"
      ]
     },
     "metadata": {
      "needs_background": "light"
     },
     "output_type": "display_data"
    },
    {
     "name": "stderr",
     "output_type": "stream",
     "text": [
      "C:\\Users\\sony\\anaconda3\\lib\\site-packages\\seaborn\\_decorators.py:36: FutureWarning: Pass the following variable as a keyword arg: x. From version 0.12, the only valid positional argument will be `data`, and passing other arguments without an explicit keyword will result in an error or misinterpretation.\n",
      "  warnings.warn(\n"
     ]
    },
    {
     "data": {
      "image/png": "[encoded data removed]",
      "text/plain": [
       "<Figure size 432x288 with 1 Axes>"
      ]
     },
     "metadata": {
      "needs_background": "light"
     },
     "output_type": "display_data"
    }
   ],
   "source": [
    "sns.boxplot(titanic[\"Fare\"])\n",
    "plt.title(\"before\")\n",
    "plt.show()\n",
    "\n",
    "def drop_otliers(df,column):\n",
    "    Q1=np.percentile(df[column],25)\n",
    "    Q3=np.percentile(df[column],75)\n",
    "    \n",
    "    IQR=1.5*(Q3-Q1)\n",
    "    \n",
    "    lower=Q1-IQR\n",
    "    upper=Q3+IQR\n",
    "    \n",
    "    df.drop(df[df[column]>upper].index,inplace=True)\n",
    "    df.drop(df[df[column]<lower].index,inplace=True)\n",
    "    \n",
    "    \n",
    "drop_otliers(titanic,\"Fare\")\n",
    "sns.boxplot(titanic[\"Fare\"])\n",
    "plt.title(\"after\")\n",
    "plt.show()\n",
    "    "
   ]
  },
  {
   "cell_type": "code",
   "execution_count": 30,
   "id": "b0dd60b2",
   "metadata": {},
   "outputs": [
    {
     "data": {
      "text/plain": [
       "(775, 12)"
      ]
     },
     "execution_count": 30,
     "metadata": {},
     "output_type": "execute_result"
    }
   ],
   "source": [
    "titanic.shape"
   ]
  },
  {
   "cell_type": "raw",
   "id": "e963e4bf",
   "metadata": {},
   "source": [
    "# removing the outlier\n",
    "\n",
    "There are some techniques used to deal with outliers.\n",
    "Deleting observations\n",
    "Transforming values\n",
    "Imputation\n",
    "Separately treating\n",
    "Deleting observations"
   ]
  },
  {
   "cell_type": "code",
   "execution_count": null,
   "id": "fa669541",
   "metadata": {},
   "outputs": [],
   "source": [
    "Transforming values:\n",
    "    \n",
    "Transforming variables can also eliminate outliers. These transformed values reduces the variation caused by extreme values.\n",
    "\n",
    "Scaling # sklearn preprocessing\n",
    "\n",
    "Log transformation # np.log\n",
    "\n",
    "Cube Root Normalization# ** 1/3\n",
    "\n",
    "Box-transformation\n",
    "\n",
    "These techniques convert values in the dataset to smaller values.\n",
    "\n",
    "If the data has to many extreme values or skewed, this method helps to make your data normal.\n",
    "But These technique not always give you the best results.\n",
    "\n",
    "There is no lose of data from these methods\n",
    "\n",
    "In all these method box cox transformation gives the best result.\n"
   ]
  },
  {
   "cell_type": "code",
   "execution_count": null,
   "id": "0996eb08",
   "metadata": {},
   "outputs": [],
   "source": []
  },
  {
   "cell_type": "code",
   "execution_count": null,
   "id": "6827055a",
   "metadata": {},
   "outputs": [],
   "source": [
    "## box cox transformation gives the best result"
   ]
  },
  {
   "cell_type": "code",
   "execution_count": 56,
   "id": "5064c1d5",
   "metadata": {},
   "outputs": [
    {
     "name": "stderr",
     "output_type": "stream",
     "text": [
      "C:\\Users\\sony\\anaconda3\\lib\\site-packages\\seaborn\\_decorators.py:36: FutureWarning: Pass the following variable as a keyword arg: x. From version 0.12, the only valid positional argument will be `data`, and passing other arguments without an explicit keyword will result in an error or misinterpretation.\n",
      "  warnings.warn(\n"
     ]
    },
    {
     "data": {
      "image/png": "[encoded data removed]",
      "text/plain": [
       "<Figure size 432x288 with 1 Axes>"
      ]
     },
     "metadata": {
      "needs_background": "light"
     },
     "output_type": "display_data"
    },
    {
     "name": "stderr",
     "output_type": "stream",
     "text": [
      "C:\\Users\\sony\\anaconda3\\lib\\site-packages\\seaborn\\_decorators.py:36: FutureWarning: Pass the following variable as a keyword arg: x. From version 0.12, the only valid positional argument will be `data`, and passing other arguments without an explicit keyword will result in an error or misinterpretation.\n",
      "  warnings.warn(\n"
     ]
    },
    {
     "data": {
      "image/png": "[encoded data removed]",
      "text/plain": [
       "<Figure size 432x288 with 1 Axes>"
      ]
     },
     "metadata": {
      "needs_background": "light"
     },
     "output_type": "display_data"
    }
   ],
   "source": [
    "out = pd.read_csv(Url)\n",
    "\n",
    "impute_nan(out,\"Age\",mean)\n",
    "\n",
    "import scipy\n",
    "\n",
    "sns.boxplot(out[\"Age\"])\n",
    "plt.title(\"before\")\n",
    "plt.show()\n",
    "\n",
    "out[\"Age\"],fitted_lambda=scipy.stats.boxcox(out[\"Age\"],lmbda=None)\n",
    "\n",
    "sns.boxplot(out[\"Age\"])\n",
    "plt.title(\"aftere\")\n",
    "plt.show()"
   ]
  },
  {
   "cell_type": "code",
   "execution_count": null,
   "id": "061db324",
   "metadata": {},
   "outputs": [],
   "source": []
  },
  {
   "cell_type": "code",
   "execution_count": 33,
   "id": "396e8a25",
   "metadata": {},
   "outputs": [],
   "source": []
  },
  {
   "cell_type": "code",
   "execution_count": 34,
   "id": "5663911c",
   "metadata": {},
   "outputs": [
    {
     "data": {
      "text/plain": [
       "(891, 12)"
      ]
     },
     "execution_count": 34,
     "metadata": {},
     "output_type": "execute_result"
    }
   ],
   "source": [
    "new.shape"
   ]
  },
  {
   "cell_type": "raw",
   "id": "ea7829de",
   "metadata": {},
   "source": [
    "Imputation\n",
    "Like imputation of missing values, we can also impute outliers. We can use mean, median, zero value in this methods. Since we imputing there is no loss of data. Here median is appropriate because it is not affected by outliers."
   ]
  },
  {
   "cell_type": "code",
   "execution_count": 48,
   "id": "64c6ebfd",
   "metadata": {},
   "outputs": [
    {
     "name": "stderr",
     "output_type": "stream",
     "text": [
      "C:\\Users\\sony\\anaconda3\\lib\\site-packages\\seaborn\\_decorators.py:36: FutureWarning: Pass the following variable as a keyword arg: x. From version 0.12, the only valid positional argument will be `data`, and passing other arguments without an explicit keyword will result in an error or misinterpretation.\n",
      "  warnings.warn(\n"
     ]
    },
    {
     "data": {
      "image/png": "[encoded data removed]",
      "text/plain": [
       "<Figure size 432x288 with 1 Axes>"
      ]
     },
     "metadata": {
      "needs_background": "light"
     },
     "output_type": "display_data"
    },
    {
     "name": "stderr",
     "output_type": "stream",
     "text": [
      "C:\\Users\\sony\\anaconda3\\lib\\site-packages\\seaborn\\_decorators.py:36: FutureWarning: Pass the following variable as a keyword arg: x. From version 0.12, the only valid positional argument will be `data`, and passing other arguments without an explicit keyword will result in an error or misinterpretation.\n",
      "  warnings.warn(\n"
     ]
    },
    {
     "data": {
      "image/png": "[encoded data removed]",
      "text/plain": [
       "<Figure size 432x288 with 1 Axes>"
      ]
     },
     "metadata": {
      "needs_background": "light"
     },
     "output_type": "display_data"
    }
   ],
   "source": [
    "new = pd.read_csv(Url) # titanic\n",
    "sns.boxplot(new[\"Fare\"])\n",
    "plt.title(\"before\")\n",
    "plt.show()\n",
    "\n",
    "def otlier_treat(df,column):\n",
    "    \n",
    "    for i in df[column]:\n",
    "        Q1 = np.quantile(df[column], .25) \n",
    "        Q3 = np.quantile(df[column], .75) \n",
    "        Q2 = np.quantile(df[column], .50)\n",
    "        \n",
    "        IQR = Q3-Q1\n",
    "        lower = Q1 -(1.5 * IQR) \n",
    "        upper = Q3 +(1.5 * IQR)\n",
    "        \n",
    "        if i > upper or i < lower:\n",
    "            df[column]=df[column].replace(i, np.median(df[column]))\n",
    "            \n",
    "            \n",
    "otlier_treat(new,\"Fare\")  \n",
    "\n",
    "sns.boxplot(new[\"Fare\"])\n",
    "plt.title(\"after\")\n",
    "plt.show()\n",
    "\n",
    "        "
   ]
  },
  {
   "cell_type": "code",
   "execution_count": 49,
   "id": "ed27927f",
   "metadata": {},
   "outputs": [
    {
     "name": "stderr",
     "output_type": "stream",
     "text": [
      "C:\\Users\\sony\\anaconda3\\lib\\site-packages\\seaborn\\_decorators.py:36: FutureWarning: Pass the following variable as a keyword arg: x. From version 0.12, the only valid positional argument will be `data`, and passing other arguments without an explicit keyword will result in an error or misinterpretation.\n",
      "  warnings.warn(\n"
     ]
    },
    {
     "data": {
      "image/png": "[encoded data removed]",
      "text/plain": [
       "<Figure size 432x288 with 1 Axes>"
      ]
     },
     "metadata": {
      "needs_background": "light"
     },
     "output_type": "display_data"
    },
    {
     "name": "stderr",
     "output_type": "stream",
     "text": [
      "C:\\Users\\sony\\anaconda3\\lib\\site-packages\\seaborn\\_decorators.py:36: FutureWarning: Pass the following variable as a keyword arg: x. From version 0.12, the only valid positional argument will be `data`, and passing other arguments without an explicit keyword will result in an error or misinterpretation.\n",
      "  warnings.warn(\n"
     ]
    },
    {
     "data": {
      "image/png": "[encoded data removed]",
      "text/plain": [
       "<Figure size 432x288 with 1 Axes>"
      ]
     },
     "metadata": {
      "needs_background": "light"
     },
     "output_type": "display_data"
    }
   ],
   "source": [
    "new = pd.read_csv(Url) # titanic\n",
    "sns.boxplot(new[\"Fare\"])\n",
    "plt.title(\"before\")\n",
    "plt.show()\n",
    "\n",
    "for i in new[\"Fare\"]:\n",
    "        Q1 = np.quantile(new[\"Fare\"], .25) \n",
    "        Q3 = np.quantile(new[\"Fare\"], .75) \n",
    "        Q2 = np.quantile(new[\"Fare\"], .50)\n",
    "        \n",
    "        IQR = Q3-Q1\n",
    "        lower = Q1 -(1.5 * IQR) \n",
    "        upper = Q3 +(1.5 * IQR)\n",
    "        \n",
    "        if i > upper or i < lower:\n",
    "            new[\"Fare\"]=new[\"Fare\"].replace(i, np.median(new[\"Fare\"]))\n",
    "            \n",
    "            \n",
    "sns.boxplot(new[\"Fare\"])\n",
    "plt.title(\"after\")\n",
    "plt.show()            "
   ]
  },
  {
   "cell_type": "code",
   "execution_count": 44,
   "id": "01259f52",
   "metadata": {},
   "outputs": [
    {
     "name": "stderr",
     "output_type": "stream",
     "text": [
      "C:\\Users\\sony\\anaconda3\\lib\\site-packages\\seaborn\\_decorators.py:36: FutureWarning: Pass the following variable as a keyword arg: x. From version 0.12, the only valid positional argument will be `data`, and passing other arguments without an explicit keyword will result in an error or misinterpretation.\n",
      "  warnings.warn(\n"
     ]
    },
    {
     "data": {
      "image/png": "[encoded data removed]",
      "text/plain": [
       "<Figure size 432x288 with 1 Axes>"
      ]
     },
     "metadata": {
      "needs_background": "light"
     },
     "output_type": "display_data"
    },
    {
     "name": "stderr",
     "output_type": "stream",
     "text": [
      "C:\\Users\\sony\\anaconda3\\lib\\site-packages\\seaborn\\_decorators.py:36: FutureWarning: Pass the following variable as a keyword arg: x. From version 0.12, the only valid positional argument will be `data`, and passing other arguments without an explicit keyword will result in an error or misinterpretation.\n",
      "  warnings.warn(\n"
     ]
    },
    {
     "data": {
      "image/png": "[encoded data removed]",
      "text/plain": [
       "<Figure size 432x288 with 1 Axes>"
      ]
     },
     "metadata": {
      "needs_background": "light"
     },
     "output_type": "display_data"
    }
   ],
   "source": [
    "new = pd.read_csv(Url) # titanic\n",
    "sns.boxplot(new[\"Fare\"])\n",
    "plt.title(\"before\")\n",
    "plt.show()\n",
    "\n",
    "for i in new[\"Fare\"]:\n",
    "        Q1 = np.quantile(new[\"Fare\"], .25) \n",
    "        Q3 = np.quantile(new[\"Fare\"], .75) \n",
    "        Q2 = np.quantile(new[\"Fare\"], .50)\n",
    "        \n",
    "        IQR = Q3-Q1\n",
    "        lower = Q1 -(1.5 * IQR) \n",
    "        upper = Q3 +(1.5 * IQR)\n",
    "        \n",
    "        if i > upper :\n",
    "            new[\"Fare\"]=new[\"Fare\"].replace(i,upper)\n",
    "            if i < lower:\n",
    "                new[\"Fare\"]=new[\"Fare\"].replace(i,lower)\n",
    "                \n",
    "            \n",
    "            \n",
    "            \n",
    "sns.boxplot(new[\"Fare\"])\n",
    "plt.title(\"after\")\n",
    "plt.show()"
   ]
  },
  {
   "cell_type": "code",
   "execution_count": 43,
   "id": "2e2cb8bc",
   "metadata": {},
   "outputs": [
    {
     "name": "stderr",
     "output_type": "stream",
     "text": [
      "C:\\Users\\sony\\anaconda3\\lib\\site-packages\\seaborn\\_decorators.py:36: FutureWarning: Pass the following variable as a keyword arg: x. From version 0.12, the only valid positional argument will be `data`, and passing other arguments without an explicit keyword will result in an error or misinterpretation.\n",
      "  warnings.warn(\n"
     ]
    },
    {
     "data": {
      "image/png": "[encoded data removed]",
      "text/plain": [
       "<Figure size 432x288 with 1 Axes>"
      ]
     },
     "metadata": {
      "needs_background": "light"
     },
     "output_type": "display_data"
    },
    {
     "name": "stderr",
     "output_type": "stream",
     "text": [
      "C:\\Users\\sony\\anaconda3\\lib\\site-packages\\seaborn\\_decorators.py:36: FutureWarning: Pass the following variable as a keyword arg: x. From version 0.12, the only valid positional argument will be `data`, and passing other arguments without an explicit keyword will result in an error or misinterpretation.\n",
      "  warnings.warn(\n"
     ]
    },
    {
     "data": {
      "image/png": "[encoded data removed]",
      "text/plain": [
       "<Figure size 432x288 with 1 Axes>"
      ]
     },
     "metadata": {
      "needs_background": "light"
     },
     "output_type": "display_data"
    }
   ],
   "source": [
    "# Flooring and capping method replace if all the value greater than the upper limit then it will\n",
    "# be replace by upper bound value and if the value smaller than the lower limit replace by the lower value\n",
    "\n",
    "\n",
    "\n",
    "new = pd.read_csv(Url) # titanic\n",
    "sns.boxplot(new[\"Fare\"])\n",
    "plt.title(\"before\")\n",
    "plt.show()\n",
    "\n",
    "def otlier_treat(df,column):\n",
    "    \n",
    "    for i in df[column]:\n",
    "        Q1 = np.quantile(df[column], .25) \n",
    "        Q3 = np.quantile(df[column], .75) \n",
    "        Q2 = np.quantile(df[column], .50)\n",
    "        \n",
    "        IQR = Q3-Q1\n",
    "        lower = Q1 -(1.5 * IQR) \n",
    "        upper = Q3 +(1.5 * IQR)\n",
    "        \n",
    "        if i > upper :\n",
    "            df[column]=df[column].replace(i,upper)\n",
    "            if i < lower:\n",
    "                df[column]=df[column].replace(i,lower)\n",
    "                \n",
    "            \n",
    "            \n",
    "otlier_treat(new,\"Fare\")  \n",
    "\n",
    "sns.boxplot(new[\"Fare\"])\n",
    "plt.title(\"after\")\n",
    "plt.show()"
   ]
  },
  {
   "cell_type": "code",
   "execution_count": 51,
   "id": "347f793c",
   "metadata": {},
   "outputs": [
    {
     "name": "stderr",
     "output_type": "stream",
     "text": [
      "C:\\Users\\sony\\anaconda3\\lib\\site-packages\\seaborn\\_decorators.py:36: FutureWarning: Pass the following variable as a keyword arg: x. From version 0.12, the only valid positional argument will be `data`, and passing other arguments without an explicit keyword will result in an error or misinterpretation.\n",
      "  warnings.warn(\n"
     ]
    },
    {
     "data": {
      "image/png": "[encoded data removed]",
      "text/plain": [
       "<Figure size 432x288 with 1 Axes>"
      ]
     },
     "metadata": {
      "needs_background": "light"
     },
     "output_type": "display_data"
    },
    {
     "name": "stderr",
     "output_type": "stream",
     "text": [
      "C:\\Users\\sony\\anaconda3\\lib\\site-packages\\seaborn\\_decorators.py:36: FutureWarning: Pass the following variable as a keyword arg: x. From version 0.12, the only valid positional argument will be `data`, and passing other arguments without an explicit keyword will result in an error or misinterpretation.\n",
      "  warnings.warn(\n"
     ]
    },
    {
     "data": {
      "image/png": "[encoded data removed]",
      "text/plain": [
       "<Figure size 432x288 with 1 Axes>"
      ]
     },
     "metadata": {
      "needs_background": "light"
     },
     "output_type": "display_data"
    }
   ],
   "source": [
    "new = pd.read_csv(Url) # titanic\n",
    "sns.boxplot(new[\"Fare\"])\n",
    "plt.title(\"before\")\n",
    "plt.show()\n",
    "\n",
    "def otlier_treat(df,column):\n",
    "    \n",
    "    for i in df[column]:\n",
    "        Q1 = np.quantile(df[column], .25) \n",
    "        Q3 = np.quantile(df[column], .75) \n",
    "        Q2 = np.quantile(df[column], .50)\n",
    "        \n",
    "        IQR = Q3-Q1\n",
    "        lower = Q1 -(1.5 * IQR) \n",
    "        upper = Q3 +(1.5 * IQR)\n",
    "        \n",
    "        if i > upper or i < lower:\n",
    "            df[column]=df[column].replace(i, 0)\n",
    "            \n",
    "            \n",
    "otlier_treat(new,\"Fare\")  \n",
    "\n",
    "sns.boxplot(new[\"Fare\"])\n",
    "plt.title(\"after\")\n",
    "plt.show()\n"
   ]
  },
  {
   "cell_type": "code",
   "execution_count": null,
   "id": "8606c092",
   "metadata": {},
   "outputs": [],
   "source": []
  },
  {
   "cell_type": "code",
   "execution_count": null,
   "id": "444f3923",
   "metadata": {},
   "outputs": [],
   "source": []
  }
 ],
 "metadata": {
  "kernelspec": {
   "display_name": "Python 3 (ipykernel)",
   "language": "python",
   "name": "python3"
  },
  "language_info": {
   "codemirror_mode": {
    "name": "ipython",
    "version": 3
   },
   "file_extension": ".py",
   "mimetype": "text/x-python",
   "name": "python",
   "nbconvert_exporter": "python",
   "pygments_lexer": "ipython3",
   "version": "3.9.7"
  }
 },
 "nbformat": 4,
 "nbformat_minor": 5
}
