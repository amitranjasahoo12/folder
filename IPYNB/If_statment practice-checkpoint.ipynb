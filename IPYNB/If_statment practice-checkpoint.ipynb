{
 "cells": [
  {
   "cell_type": "markdown",
   "id": "115fe758",
   "metadata": {},
   "source": [
    "Write a program that prints the numbers from 1 to 100. But for multiples of three print “Fizz” instead of the number and for the multiples of five print “Buzz”. For numbers which are multiples of both three and five print “FizzBuzz”."
   ]
  },
  {
   "cell_type": "code",
   "execution_count": 1,
   "id": "a308a4ac",
   "metadata": {},
   "outputs": [],
   "source": [
    "x=range(1,100)"
   ]
  },
  {
   "cell_type": "code",
   "execution_count": 2,
   "id": "ea1042a3",
   "metadata": {},
   "outputs": [
    {
     "data": {
      "text/plain": [
       "range(1, 100)"
      ]
     },
     "execution_count": 2,
     "metadata": {},
     "output_type": "execute_result"
    }
   ],
   "source": [
    "x"
   ]
  },
  {
   "cell_type": "code",
   "execution_count": 7,
   "id": "b2c3e732",
   "metadata": {},
   "outputs": [
    {
     "name": "stdout",
     "output_type": "stream",
     "text": [
      "Fizz\n",
      "Fizz\n",
      "Fizz\n",
      "Fizz\n",
      "Fizz\n",
      "Fizz\n"
     ]
    }
   ],
   "source": [
    "for i in x:\n",
    "    if i%3 == 0  and i % 5 == 0:\n",
    "        print(\"Fizzbuzz\")"
   ]
  },
  {
   "cell_type": "code",
   "execution_count": 8,
   "id": "b07fce21",
   "metadata": {},
   "outputs": [
    {
     "name": "stdout",
     "output_type": "stream",
     "text": [
      "1\n",
      "2\n",
      "Fizz:3\n",
      "4\n",
      "Buzz:5\n",
      "Fizz:6\n",
      "7\n",
      "8\n",
      "Fizz:9\n",
      "Buzz:10\n",
      "11\n",
      "Fizz:12\n",
      "13\n",
      "14\n",
      "FizzBuzz: 15\n",
      "16\n",
      "17\n",
      "Fizz:18\n",
      "19\n",
      "Buzz:20\n",
      "Fizz:21\n",
      "22\n",
      "23\n",
      "Fizz:24\n",
      "Buzz:25\n",
      "26\n",
      "Fizz:27\n",
      "28\n",
      "29\n",
      "FizzBuzz: 30\n",
      "31\n",
      "32\n",
      "Fizz:33\n",
      "34\n",
      "Buzz:35\n",
      "Fizz:36\n",
      "37\n",
      "38\n",
      "Fizz:39\n",
      "Buzz:40\n",
      "41\n",
      "Fizz:42\n",
      "43\n",
      "44\n",
      "FizzBuzz: 45\n",
      "46\n",
      "47\n",
      "Fizz:48\n",
      "49\n",
      "Buzz:50\n",
      "Fizz:51\n",
      "52\n",
      "53\n",
      "Fizz:54\n",
      "Buzz:55\n",
      "56\n",
      "Fizz:57\n",
      "58\n",
      "59\n",
      "FizzBuzz: 60\n",
      "61\n",
      "62\n",
      "Fizz:63\n",
      "64\n",
      "Buzz:65\n",
      "Fizz:66\n",
      "67\n",
      "68\n",
      "Fizz:69\n",
      "Buzz:70\n",
      "71\n",
      "Fizz:72\n",
      "73\n",
      "74\n",
      "FizzBuzz: 75\n",
      "76\n",
      "77\n",
      "Fizz:78\n",
      "79\n",
      "Buzz:80\n",
      "Fizz:81\n",
      "82\n",
      "83\n",
      "Fizz:84\n",
      "Buzz:85\n",
      "86\n",
      "Fizz:87\n",
      "88\n",
      "89\n",
      "FizzBuzz: 90\n",
      "91\n",
      "92\n",
      "Fizz:93\n",
      "94\n",
      "Buzz:95\n",
      "Fizz:96\n",
      "97\n",
      "98\n",
      "Fizz:99\n",
      "Buzz:100\n"
     ]
    }
   ],
   "source": [
    "for num in range(1,101):\n",
    "    if num % 3 == 0 and num % 5 == 0:\n",
    "        print(\"FizzBuzz: \"+str(num))\n",
    "    elif num % 3 == 0:\n",
    "        print(\"Fizz:\" +str(num))\n",
    "    elif num % 5 == 0:\n",
    "        print(\"Buzz:\" +str(num))\n",
    "    else:\n",
    "        print(num)"
   ]
  },
  {
   "cell_type": "code",
   "execution_count": null,
   "id": "7c70e73f",
   "metadata": {},
   "outputs": [],
   "source": []
  }
 ],
 "metadata": {
  "kernelspec": {
   "display_name": "Python 3 (ipykernel)",
   "language": "python",
   "name": "python3"
  },
  "language_info": {
   "codemirror_mode": {
    "name": "ipython",
    "version": 3
   },
   "file_extension": ".py",
   "mimetype": "text/x-python",
   "name": "python",
   "nbconvert_exporter": "python",
   "pygments_lexer": "ipython3",
   "version": "3.9.7"
  }
 },
 "nbformat": 4,
 "nbformat_minor": 5
}
